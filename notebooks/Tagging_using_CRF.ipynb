{
  "nbformat": 4,
  "nbformat_minor": 0,
  "metadata": {
    "colab": {
      "name": "Tagging using CRF.ipynb",
      "provenance": [],
      "collapsed_sections": []
    },
    "kernelspec": {
      "name": "python3",
      "display_name": "Python 3"
    },
    "accelerator": "GPU",
    "widgets": {
      "application/vnd.jupyter.widget-state+json": {
        "caef3443da0f4e209abde16cd1fa7cb5": {
          "model_module": "@jupyter-widgets/controls",
          "model_name": "HBoxModel",
          "state": {
            "_view_name": "HBoxView",
            "_dom_classes": [],
            "_model_name": "HBoxModel",
            "_view_module": "@jupyter-widgets/controls",
            "_model_module_version": "1.5.0",
            "_view_count": null,
            "_view_module_version": "1.5.0",
            "box_style": "",
            "layout": "IPY_MODEL_a065042717d849979406fd809bf09a4e",
            "_model_module": "@jupyter-widgets/controls",
            "children": [
              "IPY_MODEL_227e808e3aff4b418352f5234c9de56f",
              "IPY_MODEL_d940fca8ad5148f489544fac5c80156c"
            ]
          }
        },
        "a065042717d849979406fd809bf09a4e": {
          "model_module": "@jupyter-widgets/base",
          "model_name": "LayoutModel",
          "state": {
            "_view_name": "LayoutView",
            "grid_template_rows": null,
            "right": null,
            "justify_content": null,
            "_view_module": "@jupyter-widgets/base",
            "overflow": null,
            "_model_module_version": "1.2.0",
            "_view_count": null,
            "flex_flow": null,
            "width": null,
            "min_width": null,
            "border": null,
            "align_items": null,
            "bottom": null,
            "_model_module": "@jupyter-widgets/base",
            "top": null,
            "grid_column": null,
            "overflow_y": null,
            "overflow_x": null,
            "grid_auto_flow": null,
            "grid_area": null,
            "grid_template_columns": null,
            "flex": null,
            "_model_name": "LayoutModel",
            "justify_items": null,
            "grid_row": null,
            "max_height": null,
            "align_content": null,
            "visibility": null,
            "align_self": null,
            "height": null,
            "min_height": null,
            "padding": null,
            "grid_auto_rows": null,
            "grid_gap": null,
            "max_width": null,
            "order": null,
            "_view_module_version": "1.2.0",
            "grid_template_areas": null,
            "object_position": null,
            "object_fit": null,
            "grid_auto_columns": null,
            "margin": null,
            "display": null,
            "left": null
          }
        },
        "227e808e3aff4b418352f5234c9de56f": {
          "model_module": "@jupyter-widgets/controls",
          "model_name": "FloatProgressModel",
          "state": {
            "_view_name": "ProgressView",
            "style": "IPY_MODEL_25d0768ef07b48ec93e4f59ca51ae879",
            "_dom_classes": [],
            "description": "",
            "_model_name": "FloatProgressModel",
            "bar_style": "success",
            "max": 1,
            "_view_module": "@jupyter-widgets/controls",
            "_model_module_version": "1.5.0",
            "value": 1,
            "_view_count": null,
            "_view_module_version": "1.5.0",
            "orientation": "horizontal",
            "min": 0,
            "description_tooltip": null,
            "_model_module": "@jupyter-widgets/controls",
            "layout": "IPY_MODEL_258841b99d014f04bd243bab5215ea90"
          }
        },
        "d940fca8ad5148f489544fac5c80156c": {
          "model_module": "@jupyter-widgets/controls",
          "model_name": "HTMLModel",
          "state": {
            "_view_name": "HTMLView",
            "style": "IPY_MODEL_9c1e5ca69d5b4b198cbd13ab22bb73db",
            "_dom_classes": [],
            "description": "",
            "_model_name": "HTMLModel",
            "placeholder": "​",
            "_view_module": "@jupyter-widgets/controls",
            "_model_module_version": "1.5.0",
            "value": " 14006/? [02:57&lt;00:00, 78.92it/s]",
            "_view_count": null,
            "_view_module_version": "1.5.0",
            "description_tooltip": null,
            "_model_module": "@jupyter-widgets/controls",
            "layout": "IPY_MODEL_5c9180b07e964ca084cf2d16d0d4efe6"
          }
        },
        "25d0768ef07b48ec93e4f59ca51ae879": {
          "model_module": "@jupyter-widgets/controls",
          "model_name": "ProgressStyleModel",
          "state": {
            "_view_name": "StyleView",
            "_model_name": "ProgressStyleModel",
            "description_width": "initial",
            "_view_module": "@jupyter-widgets/base",
            "_model_module_version": "1.5.0",
            "_view_count": null,
            "_view_module_version": "1.2.0",
            "bar_color": null,
            "_model_module": "@jupyter-widgets/controls"
          }
        },
        "258841b99d014f04bd243bab5215ea90": {
          "model_module": "@jupyter-widgets/base",
          "model_name": "LayoutModel",
          "state": {
            "_view_name": "LayoutView",
            "grid_template_rows": null,
            "right": null,
            "justify_content": null,
            "_view_module": "@jupyter-widgets/base",
            "overflow": null,
            "_model_module_version": "1.2.0",
            "_view_count": null,
            "flex_flow": null,
            "width": null,
            "min_width": null,
            "border": null,
            "align_items": null,
            "bottom": null,
            "_model_module": "@jupyter-widgets/base",
            "top": null,
            "grid_column": null,
            "overflow_y": null,
            "overflow_x": null,
            "grid_auto_flow": null,
            "grid_area": null,
            "grid_template_columns": null,
            "flex": null,
            "_model_name": "LayoutModel",
            "justify_items": null,
            "grid_row": null,
            "max_height": null,
            "align_content": null,
            "visibility": null,
            "align_self": null,
            "height": null,
            "min_height": null,
            "padding": null,
            "grid_auto_rows": null,
            "grid_gap": null,
            "max_width": null,
            "order": null,
            "_view_module_version": "1.2.0",
            "grid_template_areas": null,
            "object_position": null,
            "object_fit": null,
            "grid_auto_columns": null,
            "margin": null,
            "display": null,
            "left": null
          }
        },
        "9c1e5ca69d5b4b198cbd13ab22bb73db": {
          "model_module": "@jupyter-widgets/controls",
          "model_name": "DescriptionStyleModel",
          "state": {
            "_view_name": "StyleView",
            "_model_name": "DescriptionStyleModel",
            "description_width": "",
            "_view_module": "@jupyter-widgets/base",
            "_model_module_version": "1.5.0",
            "_view_count": null,
            "_view_module_version": "1.2.0",
            "_model_module": "@jupyter-widgets/controls"
          }
        },
        "5c9180b07e964ca084cf2d16d0d4efe6": {
          "model_module": "@jupyter-widgets/base",
          "model_name": "LayoutModel",
          "state": {
            "_view_name": "LayoutView",
            "grid_template_rows": null,
            "right": null,
            "justify_content": null,
            "_view_module": "@jupyter-widgets/base",
            "overflow": null,
            "_model_module_version": "1.2.0",
            "_view_count": null,
            "flex_flow": null,
            "width": null,
            "min_width": null,
            "border": null,
            "align_items": null,
            "bottom": null,
            "_model_module": "@jupyter-widgets/base",
            "top": null,
            "grid_column": null,
            "overflow_y": null,
            "overflow_x": null,
            "grid_auto_flow": null,
            "grid_area": null,
            "grid_template_columns": null,
            "flex": null,
            "_model_name": "LayoutModel",
            "justify_items": null,
            "grid_row": null,
            "max_height": null,
            "align_content": null,
            "visibility": null,
            "align_self": null,
            "height": null,
            "min_height": null,
            "padding": null,
            "grid_auto_rows": null,
            "grid_gap": null,
            "max_width": null,
            "order": null,
            "_view_module_version": "1.2.0",
            "grid_template_areas": null,
            "object_position": null,
            "object_fit": null,
            "grid_auto_columns": null,
            "margin": null,
            "display": null,
            "left": null
          }
        },
        "41c81c6f5e3846ff9dc2cdad50ea24e7": {
          "model_module": "@jupyter-widgets/controls",
          "model_name": "HBoxModel",
          "state": {
            "_view_name": "HBoxView",
            "_dom_classes": [],
            "_model_name": "HBoxModel",
            "_view_module": "@jupyter-widgets/controls",
            "_model_module_version": "1.5.0",
            "_view_count": null,
            "_view_module_version": "1.5.0",
            "box_style": "",
            "layout": "IPY_MODEL_2bce85d3be824c0cabe2a0f4bb2187c2",
            "_model_module": "@jupyter-widgets/controls",
            "children": [
              "IPY_MODEL_ab4bf3f423a74b9ba0f0e78b3896970c",
              "IPY_MODEL_b08645d510804cf39c0a6fa38a5b5071"
            ]
          }
        },
        "2bce85d3be824c0cabe2a0f4bb2187c2": {
          "model_module": "@jupyter-widgets/base",
          "model_name": "LayoutModel",
          "state": {
            "_view_name": "LayoutView",
            "grid_template_rows": null,
            "right": null,
            "justify_content": null,
            "_view_module": "@jupyter-widgets/base",
            "overflow": null,
            "_model_module_version": "1.2.0",
            "_view_count": null,
            "flex_flow": null,
            "width": null,
            "min_width": null,
            "border": null,
            "align_items": null,
            "bottom": null,
            "_model_module": "@jupyter-widgets/base",
            "top": null,
            "grid_column": null,
            "overflow_y": null,
            "overflow_x": null,
            "grid_auto_flow": null,
            "grid_area": null,
            "grid_template_columns": null,
            "flex": null,
            "_model_name": "LayoutModel",
            "justify_items": null,
            "grid_row": null,
            "max_height": null,
            "align_content": null,
            "visibility": null,
            "align_self": null,
            "height": null,
            "min_height": null,
            "padding": null,
            "grid_auto_rows": null,
            "grid_gap": null,
            "max_width": null,
            "order": null,
            "_view_module_version": "1.2.0",
            "grid_template_areas": null,
            "object_position": null,
            "object_fit": null,
            "grid_auto_columns": null,
            "margin": null,
            "display": null,
            "left": null
          }
        },
        "ab4bf3f423a74b9ba0f0e78b3896970c": {
          "model_module": "@jupyter-widgets/controls",
          "model_name": "FloatProgressModel",
          "state": {
            "_view_name": "ProgressView",
            "style": "IPY_MODEL_54b23adb7e3e4be28654917d62154801",
            "_dom_classes": [],
            "description": "",
            "_model_name": "FloatProgressModel",
            "bar_style": "success",
            "max": 1,
            "_view_module": "@jupyter-widgets/controls",
            "_model_module_version": "1.5.0",
            "value": 1,
            "_view_count": null,
            "_view_module_version": "1.5.0",
            "orientation": "horizontal",
            "min": 0,
            "description_tooltip": null,
            "_model_module": "@jupyter-widgets/controls",
            "layout": "IPY_MODEL_e7911d39ee27440eb4accde6916d0e77"
          }
        },
        "b08645d510804cf39c0a6fa38a5b5071": {
          "model_module": "@jupyter-widgets/controls",
          "model_name": "HTMLModel",
          "state": {
            "_view_name": "HTMLView",
            "style": "IPY_MODEL_b09a119b6cec4505ba7abac8e6279518",
            "_dom_classes": [],
            "description": "",
            "_model_name": "HTMLModel",
            "placeholder": "​",
            "_view_module": "@jupyter-widgets/controls",
            "_model_module_version": "1.5.0",
            "value": " 1717/? [00:51&lt;00:00, 33.13it/s]",
            "_view_count": null,
            "_view_module_version": "1.5.0",
            "description_tooltip": null,
            "_model_module": "@jupyter-widgets/controls",
            "layout": "IPY_MODEL_cba51fb5f29944799318a429068c7fb3"
          }
        },
        "54b23adb7e3e4be28654917d62154801": {
          "model_module": "@jupyter-widgets/controls",
          "model_name": "ProgressStyleModel",
          "state": {
            "_view_name": "StyleView",
            "_model_name": "ProgressStyleModel",
            "description_width": "initial",
            "_view_module": "@jupyter-widgets/base",
            "_model_module_version": "1.5.0",
            "_view_count": null,
            "_view_module_version": "1.2.0",
            "bar_color": null,
            "_model_module": "@jupyter-widgets/controls"
          }
        },
        "e7911d39ee27440eb4accde6916d0e77": {
          "model_module": "@jupyter-widgets/base",
          "model_name": "LayoutModel",
          "state": {
            "_view_name": "LayoutView",
            "grid_template_rows": null,
            "right": null,
            "justify_content": null,
            "_view_module": "@jupyter-widgets/base",
            "overflow": null,
            "_model_module_version": "1.2.0",
            "_view_count": null,
            "flex_flow": null,
            "width": null,
            "min_width": null,
            "border": null,
            "align_items": null,
            "bottom": null,
            "_model_module": "@jupyter-widgets/base",
            "top": null,
            "grid_column": null,
            "overflow_y": null,
            "overflow_x": null,
            "grid_auto_flow": null,
            "grid_area": null,
            "grid_template_columns": null,
            "flex": null,
            "_model_name": "LayoutModel",
            "justify_items": null,
            "grid_row": null,
            "max_height": null,
            "align_content": null,
            "visibility": null,
            "align_self": null,
            "height": null,
            "min_height": null,
            "padding": null,
            "grid_auto_rows": null,
            "grid_gap": null,
            "max_width": null,
            "order": null,
            "_view_module_version": "1.2.0",
            "grid_template_areas": null,
            "object_position": null,
            "object_fit": null,
            "grid_auto_columns": null,
            "margin": null,
            "display": null,
            "left": null
          }
        },
        "b09a119b6cec4505ba7abac8e6279518": {
          "model_module": "@jupyter-widgets/controls",
          "model_name": "DescriptionStyleModel",
          "state": {
            "_view_name": "StyleView",
            "_model_name": "DescriptionStyleModel",
            "description_width": "",
            "_view_module": "@jupyter-widgets/base",
            "_model_module_version": "1.5.0",
            "_view_count": null,
            "_view_module_version": "1.2.0",
            "_model_module": "@jupyter-widgets/controls"
          }
        },
        "cba51fb5f29944799318a429068c7fb3": {
          "model_module": "@jupyter-widgets/base",
          "model_name": "LayoutModel",
          "state": {
            "_view_name": "LayoutView",
            "grid_template_rows": null,
            "right": null,
            "justify_content": null,
            "_view_module": "@jupyter-widgets/base",
            "overflow": null,
            "_model_module_version": "1.2.0",
            "_view_count": null,
            "flex_flow": null,
            "width": null,
            "min_width": null,
            "border": null,
            "align_items": null,
            "bottom": null,
            "_model_module": "@jupyter-widgets/base",
            "top": null,
            "grid_column": null,
            "overflow_y": null,
            "overflow_x": null,
            "grid_auto_flow": null,
            "grid_area": null,
            "grid_template_columns": null,
            "flex": null,
            "_model_name": "LayoutModel",
            "justify_items": null,
            "grid_row": null,
            "max_height": null,
            "align_content": null,
            "visibility": null,
            "align_self": null,
            "height": null,
            "min_height": null,
            "padding": null,
            "grid_auto_rows": null,
            "grid_gap": null,
            "max_width": null,
            "order": null,
            "_view_module_version": "1.2.0",
            "grid_template_areas": null,
            "object_position": null,
            "object_fit": null,
            "grid_auto_columns": null,
            "margin": null,
            "display": null,
            "left": null
          }
        },
        "ab004dda59fe409fa640acfb46ffdaf3": {
          "model_module": "@jupyter-widgets/controls",
          "model_name": "HBoxModel",
          "state": {
            "_view_name": "HBoxView",
            "_dom_classes": [],
            "_model_name": "HBoxModel",
            "_view_module": "@jupyter-widgets/controls",
            "_model_module_version": "1.5.0",
            "_view_count": null,
            "_view_module_version": "1.5.0",
            "box_style": "",
            "layout": "IPY_MODEL_c2873c7a93fe40d5af63ca6c79e25104",
            "_model_module": "@jupyter-widgets/controls",
            "children": [
              "IPY_MODEL_e9950d78711b4d4aa839dfccc886d685",
              "IPY_MODEL_89684eb2cf69460fa07adae6e8ff0508"
            ]
          }
        },
        "c2873c7a93fe40d5af63ca6c79e25104": {
          "model_module": "@jupyter-widgets/base",
          "model_name": "LayoutModel",
          "state": {
            "_view_name": "LayoutView",
            "grid_template_rows": null,
            "right": null,
            "justify_content": null,
            "_view_module": "@jupyter-widgets/base",
            "overflow": null,
            "_model_module_version": "1.2.0",
            "_view_count": null,
            "flex_flow": null,
            "width": null,
            "min_width": null,
            "border": null,
            "align_items": null,
            "bottom": null,
            "_model_module": "@jupyter-widgets/base",
            "top": null,
            "grid_column": null,
            "overflow_y": null,
            "overflow_x": null,
            "grid_auto_flow": null,
            "grid_area": null,
            "grid_template_columns": null,
            "flex": null,
            "_model_name": "LayoutModel",
            "justify_items": null,
            "grid_row": null,
            "max_height": null,
            "align_content": null,
            "visibility": null,
            "align_self": null,
            "height": null,
            "min_height": null,
            "padding": null,
            "grid_auto_rows": null,
            "grid_gap": null,
            "max_width": null,
            "order": null,
            "_view_module_version": "1.2.0",
            "grid_template_areas": null,
            "object_position": null,
            "object_fit": null,
            "grid_auto_columns": null,
            "margin": null,
            "display": null,
            "left": null
          }
        },
        "e9950d78711b4d4aa839dfccc886d685": {
          "model_module": "@jupyter-widgets/controls",
          "model_name": "FloatProgressModel",
          "state": {
            "_view_name": "ProgressView",
            "style": "IPY_MODEL_d0ccb0f11798442a8e1d568453e38ca3",
            "_dom_classes": [],
            "description": "",
            "_model_name": "FloatProgressModel",
            "bar_style": "success",
            "max": 1,
            "_view_module": "@jupyter-widgets/controls",
            "_model_module_version": "1.5.0",
            "value": 1,
            "_view_count": null,
            "_view_module_version": "1.5.0",
            "orientation": "horizontal",
            "min": 0,
            "description_tooltip": null,
            "_model_module": "@jupyter-widgets/controls",
            "layout": "IPY_MODEL_15b39555b64f446892c7d42a2bcb21b6"
          }
        },
        "89684eb2cf69460fa07adae6e8ff0508": {
          "model_module": "@jupyter-widgets/controls",
          "model_name": "HTMLModel",
          "state": {
            "_view_name": "HTMLView",
            "style": "IPY_MODEL_5c44ae97744f4acaa2c90ac5b739b81b",
            "_dom_classes": [],
            "description": "",
            "_model_name": "HTMLModel",
            "placeholder": "​",
            "_view_module": "@jupyter-widgets/controls",
            "_model_module_version": "1.5.0",
            "value": " 1717/? [00:36&lt;00:00, 47.58it/s]",
            "_view_count": null,
            "_view_module_version": "1.5.0",
            "description_tooltip": null,
            "_model_module": "@jupyter-widgets/controls",
            "layout": "IPY_MODEL_104f210356a54899a57fb6b5c8aca48d"
          }
        },
        "d0ccb0f11798442a8e1d568453e38ca3": {
          "model_module": "@jupyter-widgets/controls",
          "model_name": "ProgressStyleModel",
          "state": {
            "_view_name": "StyleView",
            "_model_name": "ProgressStyleModel",
            "description_width": "initial",
            "_view_module": "@jupyter-widgets/base",
            "_model_module_version": "1.5.0",
            "_view_count": null,
            "_view_module_version": "1.2.0",
            "bar_color": null,
            "_model_module": "@jupyter-widgets/controls"
          }
        },
        "15b39555b64f446892c7d42a2bcb21b6": {
          "model_module": "@jupyter-widgets/base",
          "model_name": "LayoutModel",
          "state": {
            "_view_name": "LayoutView",
            "grid_template_rows": null,
            "right": null,
            "justify_content": null,
            "_view_module": "@jupyter-widgets/base",
            "overflow": null,
            "_model_module_version": "1.2.0",
            "_view_count": null,
            "flex_flow": null,
            "width": null,
            "min_width": null,
            "border": null,
            "align_items": null,
            "bottom": null,
            "_model_module": "@jupyter-widgets/base",
            "top": null,
            "grid_column": null,
            "overflow_y": null,
            "overflow_x": null,
            "grid_auto_flow": null,
            "grid_area": null,
            "grid_template_columns": null,
            "flex": null,
            "_model_name": "LayoutModel",
            "justify_items": null,
            "grid_row": null,
            "max_height": null,
            "align_content": null,
            "visibility": null,
            "align_self": null,
            "height": null,
            "min_height": null,
            "padding": null,
            "grid_auto_rows": null,
            "grid_gap": null,
            "max_width": null,
            "order": null,
            "_view_module_version": "1.2.0",
            "grid_template_areas": null,
            "object_position": null,
            "object_fit": null,
            "grid_auto_columns": null,
            "margin": null,
            "display": null,
            "left": null
          }
        },
        "5c44ae97744f4acaa2c90ac5b739b81b": {
          "model_module": "@jupyter-widgets/controls",
          "model_name": "DescriptionStyleModel",
          "state": {
            "_view_name": "StyleView",
            "_model_name": "DescriptionStyleModel",
            "description_width": "",
            "_view_module": "@jupyter-widgets/base",
            "_model_module_version": "1.5.0",
            "_view_count": null,
            "_view_module_version": "1.2.0",
            "_model_module": "@jupyter-widgets/controls"
          }
        },
        "104f210356a54899a57fb6b5c8aca48d": {
          "model_module": "@jupyter-widgets/base",
          "model_name": "LayoutModel",
          "state": {
            "_view_name": "LayoutView",
            "grid_template_rows": null,
            "right": null,
            "justify_content": null,
            "_view_module": "@jupyter-widgets/base",
            "overflow": null,
            "_model_module_version": "1.2.0",
            "_view_count": null,
            "flex_flow": null,
            "width": null,
            "min_width": null,
            "border": null,
            "align_items": null,
            "bottom": null,
            "_model_module": "@jupyter-widgets/base",
            "top": null,
            "grid_column": null,
            "overflow_y": null,
            "overflow_x": null,
            "grid_auto_flow": null,
            "grid_area": null,
            "grid_template_columns": null,
            "flex": null,
            "_model_name": "LayoutModel",
            "justify_items": null,
            "grid_row": null,
            "max_height": null,
            "align_content": null,
            "visibility": null,
            "align_self": null,
            "height": null,
            "min_height": null,
            "padding": null,
            "grid_auto_rows": null,
            "grid_gap": null,
            "max_width": null,
            "order": null,
            "_view_module_version": "1.2.0",
            "grid_template_areas": null,
            "object_position": null,
            "object_fit": null,
            "grid_auto_columns": null,
            "margin": null,
            "display": null,
            "left": null
          }
        }
      }
    }
  },
  "cells": [
    {
      "cell_type": "code",
      "metadata": {
        "id": "MzRl2h86BpFq",
        "outputId": "fb9d2fa4-f404-46d3-ccfb-a981efadb805",
        "colab": {
          "base_uri": "https://localhost:8080/",
          "height": 211
        }
      },
      "source": [
        "pip install sklearn_crfsuite"
      ],
      "execution_count": 1,
      "outputs": [
        {
          "output_type": "stream",
          "text": [
            "Collecting sklearn_crfsuite\n",
            "  Downloading https://files.pythonhosted.org/packages/25/74/5b7befa513482e6dee1f3dd68171a6c9dfc14c0eaa00f885ffeba54fe9b0/sklearn_crfsuite-0.3.6-py2.py3-none-any.whl\n",
            "Requirement already satisfied: tabulate in /usr/local/lib/python3.6/dist-packages (from sklearn_crfsuite) (0.8.7)\n",
            "Requirement already satisfied: six in /usr/local/lib/python3.6/dist-packages (from sklearn_crfsuite) (1.15.0)\n",
            "Requirement already satisfied: tqdm>=2.0 in /usr/local/lib/python3.6/dist-packages (from sklearn_crfsuite) (4.41.1)\n",
            "Collecting python-crfsuite>=0.8.3\n",
            "\u001b[?25l  Downloading https://files.pythonhosted.org/packages/95/99/869dde6dbf3e0d07a013c8eebfb0a3d30776334e0097f8432b631a9a3a19/python_crfsuite-0.9.7-cp36-cp36m-manylinux1_x86_64.whl (743kB)\n",
            "\u001b[K     |████████████████████████████████| 747kB 6.1MB/s \n",
            "\u001b[?25hInstalling collected packages: python-crfsuite, sklearn-crfsuite\n",
            "Successfully installed python-crfsuite-0.9.7 sklearn-crfsuite-0.3.6\n"
          ],
          "name": "stdout"
        }
      ]
    },
    {
      "cell_type": "code",
      "metadata": {
        "id": "U99KecFDDzR3"
      },
      "source": [
        "%matplotlib inline\n",
        "import matplotlib.pyplot as plt\n",
        "plt.style.use('ggplot')\n",
        "from itertools import chain\n",
        "\n",
        "import nltk\n",
        "import sklearn\n",
        "import scipy.stats\n",
        "from sklearn.metrics import make_scorer\n",
        "from sklearn.model_selection import cross_val_score\n",
        "from sklearn.model_selection import RandomizedSearchCV\n",
        "\n",
        "import sklearn_crfsuite\n",
        "from sklearn_crfsuite import scorers\n",
        "from sklearn_crfsuite import metrics"
      ],
      "execution_count": 2,
      "outputs": []
    },
    {
      "cell_type": "code",
      "metadata": {
        "id": "5tgtq7CPB3M0",
        "outputId": "ba87d14e-3a28-4c38-a9cb-a4c0f4f4745d",
        "colab": {
          "base_uri": "https://localhost:8080/",
          "height": 297
        }
      },
      "source": [
        "pip install eli5"
      ],
      "execution_count": 3,
      "outputs": [
        {
          "output_type": "stream",
          "text": [
            "Collecting eli5\n",
            "\u001b[?25l  Downloading https://files.pythonhosted.org/packages/97/2f/c85c7d8f8548e460829971785347e14e45fa5c6617da374711dec8cb38cc/eli5-0.10.1-py2.py3-none-any.whl (105kB)\n",
            "\r\u001b[K     |███                             | 10kB 24.7MB/s eta 0:00:01\r\u001b[K     |██████▏                         | 20kB 2.9MB/s eta 0:00:01\r\u001b[K     |█████████▎                      | 30kB 3.9MB/s eta 0:00:01\r\u001b[K     |████████████▍                   | 40kB 4.2MB/s eta 0:00:01\r\u001b[K     |███████████████▌                | 51kB 3.4MB/s eta 0:00:01\r\u001b[K     |██████████████████▋             | 61kB 3.8MB/s eta 0:00:01\r\u001b[K     |█████████████████████▊          | 71kB 4.2MB/s eta 0:00:01\r\u001b[K     |████████████████████████▊       | 81kB 4.6MB/s eta 0:00:01\r\u001b[K     |███████████████████████████▉    | 92kB 4.9MB/s eta 0:00:01\r\u001b[K     |███████████████████████████████ | 102kB 4.6MB/s eta 0:00:01\r\u001b[K     |████████████████████████████████| 112kB 4.6MB/s \n",
            "\u001b[?25hRequirement already satisfied: tabulate>=0.7.7 in /usr/local/lib/python3.6/dist-packages (from eli5) (0.8.7)\n",
            "Requirement already satisfied: six in /usr/local/lib/python3.6/dist-packages (from eli5) (1.15.0)\n",
            "Requirement already satisfied: graphviz in /usr/local/lib/python3.6/dist-packages (from eli5) (0.10.1)\n",
            "Requirement already satisfied: numpy>=1.9.0 in /usr/local/lib/python3.6/dist-packages (from eli5) (1.18.5)\n",
            "Requirement already satisfied: jinja2 in /usr/local/lib/python3.6/dist-packages (from eli5) (2.11.2)\n",
            "Requirement already satisfied: scikit-learn>=0.18 in /usr/local/lib/python3.6/dist-packages (from eli5) (0.22.2.post1)\n",
            "Requirement already satisfied: attrs>16.0.0 in /usr/local/lib/python3.6/dist-packages (from eli5) (20.2.0)\n",
            "Requirement already satisfied: scipy in /usr/local/lib/python3.6/dist-packages (from eli5) (1.4.1)\n",
            "Requirement already satisfied: MarkupSafe>=0.23 in /usr/local/lib/python3.6/dist-packages (from jinja2->eli5) (1.1.1)\n",
            "Requirement already satisfied: joblib>=0.11 in /usr/local/lib/python3.6/dist-packages (from scikit-learn>=0.18->eli5) (0.16.0)\n",
            "Installing collected packages: eli5\n",
            "Successfully installed eli5-0.10.1\n"
          ],
          "name": "stdout"
        }
      ]
    },
    {
      "cell_type": "code",
      "metadata": {
        "id": "9nI2gLeTBm7a",
        "outputId": "d3425465-ac05-46c6-eac1-5f21ddd2ebd8",
        "colab": {
          "base_uri": "https://localhost:8080/",
          "height": 107
        }
      },
      "source": [
        "import nltk\n",
        "import sklearn_crfsuite\n",
        "import eli5"
      ],
      "execution_count": 4,
      "outputs": [
        {
          "output_type": "stream",
          "text": [
            "/usr/local/lib/python3.6/dist-packages/sklearn/utils/deprecation.py:144: FutureWarning: The sklearn.metrics.scorer module is  deprecated in version 0.22 and will be removed in version 0.24. The corresponding classes / functions should instead be imported from sklearn.metrics. Anything that cannot be imported from sklearn.metrics is now part of the private API.\n",
            "  warnings.warn(message, FutureWarning)\n",
            "/usr/local/lib/python3.6/dist-packages/sklearn/utils/deprecation.py:144: FutureWarning: The sklearn.feature_selection.base module is  deprecated in version 0.22 and will be removed in version 0.24. The corresponding classes / functions should instead be imported from sklearn.feature_selection. Anything that cannot be imported from sklearn.feature_selection is now part of the private API.\n",
            "  warnings.warn(message, FutureWarning)\n"
          ],
          "name": "stderr"
        }
      ]
    },
    {
      "cell_type": "code",
      "metadata": {
        "id": "jFCP4-ey6wdr"
      },
      "source": [
        "import spacy\n",
        "import pandas as pd\n",
        "import numpy as np\n",
        "from matplotlib import pyplot as plt"
      ],
      "execution_count": 5,
      "outputs": []
    },
    {
      "cell_type": "code",
      "metadata": {
        "id": "FpiSOxZU7qPr"
      },
      "source": [
        "from IPython.core.interactiveshell import InteractiveShell\n",
        "InteractiveShell.ast_node_interactivity = \"all\""
      ],
      "execution_count": 6,
      "outputs": []
    },
    {
      "cell_type": "code",
      "metadata": {
        "id": "ip61QCAo-tA_",
        "outputId": "b0d26857-3452-43a8-c172-8d8bf1c8c07e",
        "colab": {
          "base_uri": "https://localhost:8080/",
          "height": 592
        }
      },
      "source": [
        "!python -m spacy download en_core_web_md"
      ],
      "execution_count": 9,
      "outputs": [
        {
          "output_type": "stream",
          "text": [
            "Collecting en_core_web_md==2.2.5\n",
            "\u001b[?25l  Downloading https://github.com/explosion/spacy-models/releases/download/en_core_web_md-2.2.5/en_core_web_md-2.2.5.tar.gz (96.4MB)\n",
            "\u001b[K     |████████████████████████████████| 96.4MB 1.3MB/s \n",
            "\u001b[?25hRequirement already satisfied: spacy>=2.2.2 in /usr/local/lib/python3.6/dist-packages (from en_core_web_md==2.2.5) (2.2.4)\n",
            "Requirement already satisfied: wasabi<1.1.0,>=0.4.0 in /usr/local/lib/python3.6/dist-packages (from spacy>=2.2.2->en_core_web_md==2.2.5) (0.8.0)\n",
            "Requirement already satisfied: requests<3.0.0,>=2.13.0 in /usr/local/lib/python3.6/dist-packages (from spacy>=2.2.2->en_core_web_md==2.2.5) (2.23.0)\n",
            "Requirement already satisfied: plac<1.2.0,>=0.9.6 in /usr/local/lib/python3.6/dist-packages (from spacy>=2.2.2->en_core_web_md==2.2.5) (1.1.3)\n",
            "Requirement already satisfied: numpy>=1.15.0 in /usr/local/lib/python3.6/dist-packages (from spacy>=2.2.2->en_core_web_md==2.2.5) (1.18.5)\n",
            "Requirement already satisfied: cymem<2.1.0,>=2.0.2 in /usr/local/lib/python3.6/dist-packages (from spacy>=2.2.2->en_core_web_md==2.2.5) (2.0.3)\n",
            "Requirement already satisfied: thinc==7.4.0 in /usr/local/lib/python3.6/dist-packages (from spacy>=2.2.2->en_core_web_md==2.2.5) (7.4.0)\n",
            "Requirement already satisfied: srsly<1.1.0,>=1.0.2 in /usr/local/lib/python3.6/dist-packages (from spacy>=2.2.2->en_core_web_md==2.2.5) (1.0.2)\n",
            "Requirement already satisfied: setuptools in /usr/local/lib/python3.6/dist-packages (from spacy>=2.2.2->en_core_web_md==2.2.5) (50.3.0)\n",
            "Requirement already satisfied: blis<0.5.0,>=0.4.0 in /usr/local/lib/python3.6/dist-packages (from spacy>=2.2.2->en_core_web_md==2.2.5) (0.4.1)\n",
            "Requirement already satisfied: catalogue<1.1.0,>=0.0.7 in /usr/local/lib/python3.6/dist-packages (from spacy>=2.2.2->en_core_web_md==2.2.5) (1.0.0)\n",
            "Requirement already satisfied: murmurhash<1.1.0,>=0.28.0 in /usr/local/lib/python3.6/dist-packages (from spacy>=2.2.2->en_core_web_md==2.2.5) (1.0.2)\n",
            "Requirement already satisfied: tqdm<5.0.0,>=4.38.0 in /usr/local/lib/python3.6/dist-packages (from spacy>=2.2.2->en_core_web_md==2.2.5) (4.41.1)\n",
            "Requirement already satisfied: preshed<3.1.0,>=3.0.2 in /usr/local/lib/python3.6/dist-packages (from spacy>=2.2.2->en_core_web_md==2.2.5) (3.0.2)\n",
            "Requirement already satisfied: idna<3,>=2.5 in /usr/local/lib/python3.6/dist-packages (from requests<3.0.0,>=2.13.0->spacy>=2.2.2->en_core_web_md==2.2.5) (2.10)\n",
            "Requirement already satisfied: urllib3!=1.25.0,!=1.25.1,<1.26,>=1.21.1 in /usr/local/lib/python3.6/dist-packages (from requests<3.0.0,>=2.13.0->spacy>=2.2.2->en_core_web_md==2.2.5) (1.24.3)\n",
            "Requirement already satisfied: certifi>=2017.4.17 in /usr/local/lib/python3.6/dist-packages (from requests<3.0.0,>=2.13.0->spacy>=2.2.2->en_core_web_md==2.2.5) (2020.6.20)\n",
            "Requirement already satisfied: chardet<4,>=3.0.2 in /usr/local/lib/python3.6/dist-packages (from requests<3.0.0,>=2.13.0->spacy>=2.2.2->en_core_web_md==2.2.5) (3.0.4)\n",
            "Requirement already satisfied: importlib-metadata>=0.20; python_version < \"3.8\" in /usr/local/lib/python3.6/dist-packages (from catalogue<1.1.0,>=0.0.7->spacy>=2.2.2->en_core_web_md==2.2.5) (2.0.0)\n",
            "Requirement already satisfied: zipp>=0.5 in /usr/local/lib/python3.6/dist-packages (from importlib-metadata>=0.20; python_version < \"3.8\"->catalogue<1.1.0,>=0.0.7->spacy>=2.2.2->en_core_web_md==2.2.5) (3.2.0)\n",
            "Building wheels for collected packages: en-core-web-md\n",
            "  Building wheel for en-core-web-md (setup.py) ... \u001b[?25l\u001b[?25hdone\n",
            "  Created wheel for en-core-web-md: filename=en_core_web_md-2.2.5-cp36-none-any.whl size=98051305 sha256=e7987c26d18c4ac2d39185ef2f23df7f9fab9debad518a6ffbb9d76ad9f0e933\n",
            "  Stored in directory: /tmp/pip-ephem-wheel-cache-_9bd46oz/wheels/df/94/ad/f5cf59224cea6b5686ac4fd1ad19c8a07bc026e13c36502d81\n",
            "Successfully built en-core-web-md\n",
            "Installing collected packages: en-core-web-md\n",
            "Successfully installed en-core-web-md-2.2.5\n",
            "\u001b[38;5;2m✔ Download and installation successful\u001b[0m\n",
            "You can now load the model via spacy.load('en_core_web_md')\n"
          ],
          "name": "stdout"
        }
      ]
    },
    {
      "cell_type": "code",
      "metadata": {
        "id": "pCPr8yWg7P5Q"
      },
      "source": [
        "nlp = spacy.load(\"en_core_web_sm\") "
      ],
      "execution_count": 12,
      "outputs": []
    },
    {
      "cell_type": "code",
      "metadata": {
        "id": "Gr-_NJdO7Uiy",
        "outputId": "d6bc7753-b1d1-4833-be47-ba44b6bbb9c9",
        "colab": {
          "base_uri": "https://localhost:8080/",
          "height": 571
        }
      },
      "source": [
        "train = pd.read_csv('train.csv')\n",
        "test = pd.read_csv('dev.csv')\n",
        "dev = pd.read_csv('dev.csv')\n",
        "train.columns = ['id','Sentence','Label']\n",
        "dev.columns = ['id','Sentence','Label']\n",
        "test.columns = ['id','Sentence','Label']\n",
        "train.head()\n",
        "dev.head()\n",
        "test.head()"
      ],
      "execution_count": 15,
      "outputs": [
        {
          "output_type": "execute_result",
          "data": {
            "text/html": [
              "<div>\n",
              "<style scoped>\n",
              "    .dataframe tbody tr th:only-of-type {\n",
              "        vertical-align: middle;\n",
              "    }\n",
              "\n",
              "    .dataframe tbody tr th {\n",
              "        vertical-align: top;\n",
              "    }\n",
              "\n",
              "    .dataframe thead th {\n",
              "        text-align: right;\n",
              "    }\n",
              "</style>\n",
              "<table border=\"1\" class=\"dataframe\">\n",
              "  <thead>\n",
              "    <tr style=\"text-align: right;\">\n",
              "      <th></th>\n",
              "      <th>id</th>\n",
              "      <th>Sentence</th>\n",
              "      <th>Label</th>\n",
              "    </tr>\n",
              "  </thead>\n",
              "  <tbody>\n",
              "    <tr>\n",
              "      <th>0</th>\n",
              "      <td>TR-0</td>\n",
              "      <td>What is here called controlled natural languag...</td>\n",
              "      <td>O O O O B-long I-long I-long O B-short O O O O...</td>\n",
              "    </tr>\n",
              "    <tr>\n",
              "      <th>1</th>\n",
              "      <td>TR-1</td>\n",
              "      <td>In this paper , we introduce CoQA , a Conversa...</td>\n",
              "      <td>O O O O O O B-short O O B-long I-long I-long O...</td>\n",
              "    </tr>\n",
              "    <tr>\n",
              "      <th>2</th>\n",
              "      <td>TR-2</td>\n",
              "      <td>in : Proceedings of SODA 98 , Ninth Annual ACM...</td>\n",
              "      <td>O O O O B-short O O O O B-short O B-short O O ...</td>\n",
              "    </tr>\n",
              "    <tr>\n",
              "      <th>3</th>\n",
              "      <td>TR-3</td>\n",
              "      <td>But is the existing HPC I / O stack still suit...</td>\n",
              "      <td>O O O O B-short I-short I-short I-short O O O ...</td>\n",
              "    </tr>\n",
              "    <tr>\n",
              "      <th>4</th>\n",
              "      <td>TR-4</td>\n",
              "      <td>For a fixed and known , we apply a successive ...</td>\n",
              "      <td>O O O O O O O O O B-long I-long I-long O B-sho...</td>\n",
              "    </tr>\n",
              "  </tbody>\n",
              "</table>\n",
              "</div>"
            ],
            "text/plain": [
              "     id  ...                                              Label\n",
              "0  TR-0  ...  O O O O B-long I-long I-long O B-short O O O O...\n",
              "1  TR-1  ...  O O O O O O B-short O O B-long I-long I-long O...\n",
              "2  TR-2  ...  O O O O B-short O O O O B-short O B-short O O ...\n",
              "3  TR-3  ...  O O O O B-short I-short I-short I-short O O O ...\n",
              "4  TR-4  ...  O O O O O O O O O B-long I-long I-long O B-sho...\n",
              "\n",
              "[5 rows x 3 columns]"
            ]
          },
          "metadata": {
            "tags": []
          },
          "execution_count": 15
        },
        {
          "output_type": "execute_result",
          "data": {
            "text/html": [
              "<div>\n",
              "<style scoped>\n",
              "    .dataframe tbody tr th:only-of-type {\n",
              "        vertical-align: middle;\n",
              "    }\n",
              "\n",
              "    .dataframe tbody tr th {\n",
              "        vertical-align: top;\n",
              "    }\n",
              "\n",
              "    .dataframe thead th {\n",
              "        text-align: right;\n",
              "    }\n",
              "</style>\n",
              "<table border=\"1\" class=\"dataframe\">\n",
              "  <thead>\n",
              "    <tr style=\"text-align: right;\">\n",
              "      <th></th>\n",
              "      <th>id</th>\n",
              "      <th>Sentence</th>\n",
              "      <th>Label</th>\n",
              "    </tr>\n",
              "  </thead>\n",
              "  <tbody>\n",
              "    <tr>\n",
              "      <th>0</th>\n",
              "      <td>DEV-0</td>\n",
              "      <td>The second case in which it helps to pose a no...</td>\n",
              "      <td>O O O O O O O O O O O O B-short O O B-short O ...</td>\n",
              "    </tr>\n",
              "    <tr>\n",
              "      <th>1</th>\n",
              "      <td>DEV-1</td>\n",
              "      <td>We created such datasets for each kind of Ques...</td>\n",
              "      <td>O O O O O O O O B-long I-long O O O O O O O O ...</td>\n",
              "    </tr>\n",
              "    <tr>\n",
              "      <th>2</th>\n",
              "      <td>DEV-2</td>\n",
              "      <td>Related Work Currently , several researchers s...</td>\n",
              "      <td>O O O O O O O O O O O O O O B-short O O</td>\n",
              "    </tr>\n",
              "    <tr>\n",
              "      <th>3</th>\n",
              "      <td>DEV-3</td>\n",
              "      <td>However , we observed a decrease in the number...</td>\n",
              "      <td>O O O O O O O O O O O O O O O O O O O O O O O ...</td>\n",
              "    </tr>\n",
              "    <tr>\n",
              "      <th>4</th>\n",
              "      <td>DEV-4</td>\n",
              "      <td>Here , DA = direct assessment , RR = relative ...</td>\n",
              "      <td>O O B-short O B-long I-long O B-short O B-long...</td>\n",
              "    </tr>\n",
              "  </tbody>\n",
              "</table>\n",
              "</div>"
            ],
            "text/plain": [
              "      id  ...                                              Label\n",
              "0  DEV-0  ...  O O O O O O O O O O O O B-short O O B-short O ...\n",
              "1  DEV-1  ...  O O O O O O O O B-long I-long O O O O O O O O ...\n",
              "2  DEV-2  ...            O O O O O O O O O O O O O O B-short O O\n",
              "3  DEV-3  ...  O O O O O O O O O O O O O O O O O O O O O O O ...\n",
              "4  DEV-4  ...  O O B-short O B-long I-long O B-short O B-long...\n",
              "\n",
              "[5 rows x 3 columns]"
            ]
          },
          "metadata": {
            "tags": []
          },
          "execution_count": 15
        },
        {
          "output_type": "execute_result",
          "data": {
            "text/html": [
              "<div>\n",
              "<style scoped>\n",
              "    .dataframe tbody tr th:only-of-type {\n",
              "        vertical-align: middle;\n",
              "    }\n",
              "\n",
              "    .dataframe tbody tr th {\n",
              "        vertical-align: top;\n",
              "    }\n",
              "\n",
              "    .dataframe thead th {\n",
              "        text-align: right;\n",
              "    }\n",
              "</style>\n",
              "<table border=\"1\" class=\"dataframe\">\n",
              "  <thead>\n",
              "    <tr style=\"text-align: right;\">\n",
              "      <th></th>\n",
              "      <th>id</th>\n",
              "      <th>Sentence</th>\n",
              "      <th>Label</th>\n",
              "    </tr>\n",
              "  </thead>\n",
              "  <tbody>\n",
              "    <tr>\n",
              "      <th>0</th>\n",
              "      <td>DEV-0</td>\n",
              "      <td>The second case in which it helps to pose a no...</td>\n",
              "      <td>O O O O O O O O O O O O B-short O O B-short O ...</td>\n",
              "    </tr>\n",
              "    <tr>\n",
              "      <th>1</th>\n",
              "      <td>DEV-1</td>\n",
              "      <td>We created such datasets for each kind of Ques...</td>\n",
              "      <td>O O O O O O O O B-long I-long O O O O O O O O ...</td>\n",
              "    </tr>\n",
              "    <tr>\n",
              "      <th>2</th>\n",
              "      <td>DEV-2</td>\n",
              "      <td>Related Work Currently , several researchers s...</td>\n",
              "      <td>O O O O O O O O O O O O O O B-short O O</td>\n",
              "    </tr>\n",
              "    <tr>\n",
              "      <th>3</th>\n",
              "      <td>DEV-3</td>\n",
              "      <td>However , we observed a decrease in the number...</td>\n",
              "      <td>O O O O O O O O O O O O O O O O O O O O O O O ...</td>\n",
              "    </tr>\n",
              "    <tr>\n",
              "      <th>4</th>\n",
              "      <td>DEV-4</td>\n",
              "      <td>Here , DA = direct assessment , RR = relative ...</td>\n",
              "      <td>O O B-short O B-long I-long O B-short O B-long...</td>\n",
              "    </tr>\n",
              "  </tbody>\n",
              "</table>\n",
              "</div>"
            ],
            "text/plain": [
              "      id  ...                                              Label\n",
              "0  DEV-0  ...  O O O O O O O O O O O O B-short O O B-short O ...\n",
              "1  DEV-1  ...  O O O O O O O O B-long I-long O O O O O O O O ...\n",
              "2  DEV-2  ...            O O O O O O O O O O O O O O B-short O O\n",
              "3  DEV-3  ...  O O O O O O O O O O O O O O O O O O O O O O O ...\n",
              "4  DEV-4  ...  O O B-short O B-long I-long O B-short O B-long...\n",
              "\n",
              "[5 rows x 3 columns]"
            ]
          },
          "metadata": {
            "tags": []
          },
          "execution_count": 15
        }
      ]
    },
    {
      "cell_type": "code",
      "metadata": {
        "id": "L3xGCesr8kCu",
        "outputId": "96115a97-27cc-4eab-c1ea-8d764b6a5077",
        "colab": {
          "base_uri": "https://localhost:8080/",
          "height": 387
        }
      },
      "source": [
        "train['Sentence'] = train['Sentence'].apply(lambda x : x.strip())\n",
        "dev['Sentence'] = dev['Sentence'].apply(lambda x: x.strip())\n",
        "test['Sentence'] = test['Sentence'].apply(lambda x:x.strip())\n",
        "train.head()\n",
        "dev.head()"
      ],
      "execution_count": 16,
      "outputs": [
        {
          "output_type": "execute_result",
          "data": {
            "text/html": [
              "<div>\n",
              "<style scoped>\n",
              "    .dataframe tbody tr th:only-of-type {\n",
              "        vertical-align: middle;\n",
              "    }\n",
              "\n",
              "    .dataframe tbody tr th {\n",
              "        vertical-align: top;\n",
              "    }\n",
              "\n",
              "    .dataframe thead th {\n",
              "        text-align: right;\n",
              "    }\n",
              "</style>\n",
              "<table border=\"1\" class=\"dataframe\">\n",
              "  <thead>\n",
              "    <tr style=\"text-align: right;\">\n",
              "      <th></th>\n",
              "      <th>id</th>\n",
              "      <th>Sentence</th>\n",
              "      <th>Label</th>\n",
              "    </tr>\n",
              "  </thead>\n",
              "  <tbody>\n",
              "    <tr>\n",
              "      <th>0</th>\n",
              "      <td>TR-0</td>\n",
              "      <td>What is here called controlled natural languag...</td>\n",
              "      <td>O O O O B-long I-long I-long O B-short O O O O...</td>\n",
              "    </tr>\n",
              "    <tr>\n",
              "      <th>1</th>\n",
              "      <td>TR-1</td>\n",
              "      <td>In this paper , we introduce CoQA , a Conversa...</td>\n",
              "      <td>O O O O O O B-short O O B-long I-long I-long O...</td>\n",
              "    </tr>\n",
              "    <tr>\n",
              "      <th>2</th>\n",
              "      <td>TR-2</td>\n",
              "      <td>in : Proceedings of SODA 98 , Ninth Annual ACM...</td>\n",
              "      <td>O O O O B-short O O O O B-short O B-short O O ...</td>\n",
              "    </tr>\n",
              "    <tr>\n",
              "      <th>3</th>\n",
              "      <td>TR-3</td>\n",
              "      <td>But is the existing HPC I / O stack still suit...</td>\n",
              "      <td>O O O O B-short I-short I-short I-short O O O ...</td>\n",
              "    </tr>\n",
              "    <tr>\n",
              "      <th>4</th>\n",
              "      <td>TR-4</td>\n",
              "      <td>For a fixed and known , we apply a successive ...</td>\n",
              "      <td>O O O O O O O O O B-long I-long I-long O B-sho...</td>\n",
              "    </tr>\n",
              "  </tbody>\n",
              "</table>\n",
              "</div>"
            ],
            "text/plain": [
              "     id  ...                                              Label\n",
              "0  TR-0  ...  O O O O B-long I-long I-long O B-short O O O O...\n",
              "1  TR-1  ...  O O O O O O B-short O O B-long I-long I-long O...\n",
              "2  TR-2  ...  O O O O B-short O O O O B-short O B-short O O ...\n",
              "3  TR-3  ...  O O O O B-short I-short I-short I-short O O O ...\n",
              "4  TR-4  ...  O O O O O O O O O B-long I-long I-long O B-sho...\n",
              "\n",
              "[5 rows x 3 columns]"
            ]
          },
          "metadata": {
            "tags": []
          },
          "execution_count": 16
        },
        {
          "output_type": "execute_result",
          "data": {
            "text/html": [
              "<div>\n",
              "<style scoped>\n",
              "    .dataframe tbody tr th:only-of-type {\n",
              "        vertical-align: middle;\n",
              "    }\n",
              "\n",
              "    .dataframe tbody tr th {\n",
              "        vertical-align: top;\n",
              "    }\n",
              "\n",
              "    .dataframe thead th {\n",
              "        text-align: right;\n",
              "    }\n",
              "</style>\n",
              "<table border=\"1\" class=\"dataframe\">\n",
              "  <thead>\n",
              "    <tr style=\"text-align: right;\">\n",
              "      <th></th>\n",
              "      <th>id</th>\n",
              "      <th>Sentence</th>\n",
              "      <th>Label</th>\n",
              "    </tr>\n",
              "  </thead>\n",
              "  <tbody>\n",
              "    <tr>\n",
              "      <th>0</th>\n",
              "      <td>DEV-0</td>\n",
              "      <td>The second case in which it helps to pose a no...</td>\n",
              "      <td>O O O O O O O O O O O O B-short O O B-short O ...</td>\n",
              "    </tr>\n",
              "    <tr>\n",
              "      <th>1</th>\n",
              "      <td>DEV-1</td>\n",
              "      <td>We created such datasets for each kind of Ques...</td>\n",
              "      <td>O O O O O O O O B-long I-long O O O O O O O O ...</td>\n",
              "    </tr>\n",
              "    <tr>\n",
              "      <th>2</th>\n",
              "      <td>DEV-2</td>\n",
              "      <td>Related Work Currently , several researchers s...</td>\n",
              "      <td>O O O O O O O O O O O O O O B-short O O</td>\n",
              "    </tr>\n",
              "    <tr>\n",
              "      <th>3</th>\n",
              "      <td>DEV-3</td>\n",
              "      <td>However , we observed a decrease in the number...</td>\n",
              "      <td>O O O O O O O O O O O O O O O O O O O O O O O ...</td>\n",
              "    </tr>\n",
              "    <tr>\n",
              "      <th>4</th>\n",
              "      <td>DEV-4</td>\n",
              "      <td>Here , DA = direct assessment , RR = relative ...</td>\n",
              "      <td>O O B-short O B-long I-long O B-short O B-long...</td>\n",
              "    </tr>\n",
              "  </tbody>\n",
              "</table>\n",
              "</div>"
            ],
            "text/plain": [
              "      id  ...                                              Label\n",
              "0  DEV-0  ...  O O O O O O O O O O O O B-short O O B-short O ...\n",
              "1  DEV-1  ...  O O O O O O O O B-long I-long O O O O O O O O ...\n",
              "2  DEV-2  ...            O O O O O O O O O O O O O O B-short O O\n",
              "3  DEV-3  ...  O O O O O O O O O O O O O O O O O O O O O O O ...\n",
              "4  DEV-4  ...  O O B-short O B-long I-long O B-short O B-long...\n",
              "\n",
              "[5 rows x 3 columns]"
            ]
          },
          "metadata": {
            "tags": []
          },
          "execution_count": 16
        }
      ]
    },
    {
      "cell_type": "code",
      "metadata": {
        "id": "dEUHaaN_CzVL"
      },
      "source": [
        "def label_replacer(x):\n",
        "  x = x.replace('B-short','short')\n",
        "  x = x.replace('I-short','short')\n",
        "  x = x.replace('B-long','long')\n",
        "  x = x.replace('I-long','long')\n",
        "  return x"
      ],
      "execution_count": 32,
      "outputs": []
    },
    {
      "cell_type": "code",
      "metadata": {
        "id": "DqLv6QtiCpKs",
        "outputId": "f3763a15-ad60-4d15-bc27-a78686e69019",
        "colab": {
          "base_uri": "https://localhost:8080/",
          "height": 560
        }
      },
      "source": [
        "train['Label'] = train['Label'].apply(label_replacer)\n",
        "dev['Label'] = dev['Label'].apply(label_replacer)\n",
        "test['Label'] = test['Label'].apply(label_replacer)\n",
        "train.head()\n",
        "dev.head()"
      ],
      "execution_count": 35,
      "outputs": [
        {
          "output_type": "execute_result",
          "data": {
            "text/html": [
              "<div>\n",
              "<style scoped>\n",
              "    .dataframe tbody tr th:only-of-type {\n",
              "        vertical-align: middle;\n",
              "    }\n",
              "\n",
              "    .dataframe tbody tr th {\n",
              "        vertical-align: top;\n",
              "    }\n",
              "\n",
              "    .dataframe thead th {\n",
              "        text-align: right;\n",
              "    }\n",
              "</style>\n",
              "<table border=\"1\" class=\"dataframe\">\n",
              "  <thead>\n",
              "    <tr style=\"text-align: right;\">\n",
              "      <th></th>\n",
              "      <th>id</th>\n",
              "      <th>Sentence</th>\n",
              "      <th>Label</th>\n",
              "      <th>POS</th>\n",
              "    </tr>\n",
              "  </thead>\n",
              "  <tbody>\n",
              "    <tr>\n",
              "      <th>0</th>\n",
              "      <td>TR-0</td>\n",
              "      <td>What is here called controlled natural languag...</td>\n",
              "      <td>O O O O long long long O short O O O O O O O O O</td>\n",
              "      <td>PRON AUX ADV VERB VERB ADJ NOUN PUNCT PROPN PU...</td>\n",
              "    </tr>\n",
              "    <tr>\n",
              "      <th>1</th>\n",
              "      <td>TR-1</td>\n",
              "      <td>In this paper , we introduce CoQA , a Conversa...</td>\n",
              "      <td>O O O O O O short O O long long long O O O O O...</td>\n",
              "      <td>ADP DET NOUN PUNCT PRON VERB PROPN PUNCT DET P...</td>\n",
              "    </tr>\n",
              "    <tr>\n",
              "      <th>2</th>\n",
              "      <td>TR-2</td>\n",
              "      <td>in : Proceedings of SODA 98 , Ninth Annual ACM...</td>\n",
              "      <td>O O O O short O O O O short O short O O O O O ...</td>\n",
              "      <td>ADP PUNCT NOUN ADP NOUN NUM PUNCT PROPN PROPN ...</td>\n",
              "    </tr>\n",
              "    <tr>\n",
              "      <th>3</th>\n",
              "      <td>TR-3</td>\n",
              "      <td>But is the existing HPC I / O stack still suit...</td>\n",
              "      <td>O O O O short short short short O O O O O shor...</td>\n",
              "      <td>CCONJ AUX DET VERB NOUN PRON SYM INTJ ADV ADV ...</td>\n",
              "    </tr>\n",
              "    <tr>\n",
              "      <th>4</th>\n",
              "      <td>TR-4</td>\n",
              "      <td>For a fixed and known , we apply a successive ...</td>\n",
              "      <td>O O O O O O O O O long long long O short O O O...</td>\n",
              "      <td>ADP DET VERB CCONJ VERB PUNCT PRON VERB DET AD...</td>\n",
              "    </tr>\n",
              "  </tbody>\n",
              "</table>\n",
              "</div>"
            ],
            "text/plain": [
              "     id  ...                                                POS\n",
              "0  TR-0  ...  PRON AUX ADV VERB VERB ADJ NOUN PUNCT PROPN PU...\n",
              "1  TR-1  ...  ADP DET NOUN PUNCT PRON VERB PROPN PUNCT DET P...\n",
              "2  TR-2  ...  ADP PUNCT NOUN ADP NOUN NUM PUNCT PROPN PROPN ...\n",
              "3  TR-3  ...  CCONJ AUX DET VERB NOUN PRON SYM INTJ ADV ADV ...\n",
              "4  TR-4  ...  ADP DET VERB CCONJ VERB PUNCT PRON VERB DET AD...\n",
              "\n",
              "[5 rows x 4 columns]"
            ]
          },
          "metadata": {
            "tags": []
          },
          "execution_count": 35
        },
        {
          "output_type": "execute_result",
          "data": {
            "text/html": [
              "<div>\n",
              "<style scoped>\n",
              "    .dataframe tbody tr th:only-of-type {\n",
              "        vertical-align: middle;\n",
              "    }\n",
              "\n",
              "    .dataframe tbody tr th {\n",
              "        vertical-align: top;\n",
              "    }\n",
              "\n",
              "    .dataframe thead th {\n",
              "        text-align: right;\n",
              "    }\n",
              "</style>\n",
              "<table border=\"1\" class=\"dataframe\">\n",
              "  <thead>\n",
              "    <tr style=\"text-align: right;\">\n",
              "      <th></th>\n",
              "      <th>id</th>\n",
              "      <th>Sentence</th>\n",
              "      <th>Label</th>\n",
              "      <th>POS</th>\n",
              "    </tr>\n",
              "  </thead>\n",
              "  <tbody>\n",
              "    <tr>\n",
              "      <th>0</th>\n",
              "      <td>DEV-0</td>\n",
              "      <td>The second case in which it helps to pose a no...</td>\n",
              "      <td>O O O O O O O O O O O O short O O short O O O ...</td>\n",
              "      <td>DET ADJ NOUN ADP DET PRON VERB PART VERB DET A...</td>\n",
              "    </tr>\n",
              "    <tr>\n",
              "      <th>1</th>\n",
              "      <td>DEV-1</td>\n",
              "      <td>We created such datasets for each kind of Ques...</td>\n",
              "      <td>O O O O O O O O long long O O O O O O O O O O ...</td>\n",
              "      <td>PRON VERB ADJ NOUN ADP DET NOUN ADP NOUN PROPN...</td>\n",
              "    </tr>\n",
              "    <tr>\n",
              "      <th>2</th>\n",
              "      <td>DEV-2</td>\n",
              "      <td>Related Work Currently , several researchers s...</td>\n",
              "      <td>O O O O O O O O O O O O O O short O O</td>\n",
              "      <td>ADJ NOUN ADV PUNCT ADJ NOUN VERB NOUN ADP DET ...</td>\n",
              "    </tr>\n",
              "    <tr>\n",
              "      <th>3</th>\n",
              "      <td>DEV-3</td>\n",
              "      <td>However , we observed a decrease in the number...</td>\n",
              "      <td>O O O O O O O O O O O O O O O O O O O O O O O ...</td>\n",
              "      <td>ADV PUNCT PRON VERB DET NOUN ADP DET NOUN ADP ...</td>\n",
              "    </tr>\n",
              "    <tr>\n",
              "      <th>4</th>\n",
              "      <td>DEV-4</td>\n",
              "      <td>Here , DA = direct assessment , RR = relative ...</td>\n",
              "      <td>O O short O long long O short O long long O sh...</td>\n",
              "      <td>ADV PUNCT PROPN SYM ADJ NOUN PUNCT PROPN SYM A...</td>\n",
              "    </tr>\n",
              "  </tbody>\n",
              "</table>\n",
              "</div>"
            ],
            "text/plain": [
              "      id  ...                                                POS\n",
              "0  DEV-0  ...  DET ADJ NOUN ADP DET PRON VERB PART VERB DET A...\n",
              "1  DEV-1  ...  PRON VERB ADJ NOUN ADP DET NOUN ADP NOUN PROPN...\n",
              "2  DEV-2  ...  ADJ NOUN ADV PUNCT ADJ NOUN VERB NOUN ADP DET ...\n",
              "3  DEV-3  ...  ADV PUNCT PRON VERB DET NOUN ADP DET NOUN ADP ...\n",
              "4  DEV-4  ...  ADV PUNCT PROPN SYM ADJ NOUN PUNCT PROPN SYM A...\n",
              "\n",
              "[5 rows x 4 columns]"
            ]
          },
          "metadata": {
            "tags": []
          },
          "execution_count": 35
        }
      ]
    },
    {
      "cell_type": "code",
      "metadata": {
        "id": "zMvQkDK97gAq",
        "outputId": "4e9967a4-e85c-4685-f4e0-b59d861514f6",
        "colab": {
          "base_uri": "https://localhost:8080/",
          "height": 237,
          "referenced_widgets": [
            "caef3443da0f4e209abde16cd1fa7cb5",
            "a065042717d849979406fd809bf09a4e",
            "227e808e3aff4b418352f5234c9de56f",
            "d940fca8ad5148f489544fac5c80156c",
            "25d0768ef07b48ec93e4f59ca51ae879",
            "258841b99d014f04bd243bab5215ea90",
            "9c1e5ca69d5b4b198cbd13ab22bb73db",
            "5c9180b07e964ca084cf2d16d0d4efe6",
            "41c81c6f5e3846ff9dc2cdad50ea24e7",
            "2bce85d3be824c0cabe2a0f4bb2187c2",
            "ab4bf3f423a74b9ba0f0e78b3896970c",
            "b08645d510804cf39c0a6fa38a5b5071",
            "54b23adb7e3e4be28654917d62154801",
            "e7911d39ee27440eb4accde6916d0e77",
            "b09a119b6cec4505ba7abac8e6279518",
            "cba51fb5f29944799318a429068c7fb3",
            "ab004dda59fe409fa640acfb46ffdaf3",
            "c2873c7a93fe40d5af63ca6c79e25104",
            "e9950d78711b4d4aa839dfccc886d685",
            "89684eb2cf69460fa07adae6e8ff0508",
            "d0ccb0f11798442a8e1d568453e38ca3",
            "15b39555b64f446892c7d42a2bcb21b6",
            "5c44ae97744f4acaa2c90ac5b739b81b",
            "104f210356a54899a57fb6b5c8aca48d"
          ]
        }
      },
      "source": [
        "from tqdm import tqdm_notebook as tqdm\n",
        "def pos_tagger(df):\n",
        "  df_pos_tags = []\n",
        "  for i, val in tqdm(df.iterrows()):\n",
        "    doc = nlp(df['Sentence'][i])\n",
        "    pos_tags = []\n",
        "    for token in doc:\n",
        "      pos_tags.append(token.pos_)\n",
        "    pos_tags = ' '.join(pos_tags)\n",
        "    df_pos_tags.append(pos_tags)\n",
        "  df['POS']= df_pos_tags\n",
        "pos_tagger(train)\n",
        "pos_tagger(dev)\n",
        "pos_tagger(test)"
      ],
      "execution_count": 18,
      "outputs": [
        {
          "output_type": "stream",
          "text": [
            "/usr/local/lib/python3.6/dist-packages/ipykernel_launcher.py:4: TqdmDeprecationWarning: This function will be removed in tqdm==5.0.0\n",
            "Please use `tqdm.notebook.tqdm` instead of `tqdm.tqdm_notebook`\n",
            "  after removing the cwd from sys.path.\n"
          ],
          "name": "stderr"
        },
        {
          "output_type": "display_data",
          "data": {
            "application/vnd.jupyter.widget-view+json": {
              "model_id": "caef3443da0f4e209abde16cd1fa7cb5",
              "version_minor": 0,
              "version_major": 2
            },
            "text/plain": [
              "HBox(children=(FloatProgress(value=1.0, bar_style='info', max=1.0), HTML(value='')))"
            ]
          },
          "metadata": {
            "tags": []
          }
        },
        {
          "output_type": "stream",
          "text": [
            "\n"
          ],
          "name": "stdout"
        },
        {
          "output_type": "display_data",
          "data": {
            "application/vnd.jupyter.widget-view+json": {
              "model_id": "41c81c6f5e3846ff9dc2cdad50ea24e7",
              "version_minor": 0,
              "version_major": 2
            },
            "text/plain": [
              "HBox(children=(FloatProgress(value=1.0, bar_style='info', max=1.0), HTML(value='')))"
            ]
          },
          "metadata": {
            "tags": []
          }
        },
        {
          "output_type": "stream",
          "text": [
            "\n"
          ],
          "name": "stdout"
        },
        {
          "output_type": "display_data",
          "data": {
            "application/vnd.jupyter.widget-view+json": {
              "model_id": "ab004dda59fe409fa640acfb46ffdaf3",
              "version_minor": 0,
              "version_major": 2
            },
            "text/plain": [
              "HBox(children=(FloatProgress(value=1.0, bar_style='info', max=1.0), HTML(value='')))"
            ]
          },
          "metadata": {
            "tags": []
          }
        },
        {
          "output_type": "stream",
          "text": [
            "\n"
          ],
          "name": "stdout"
        }
      ]
    },
    {
      "cell_type": "code",
      "metadata": {
        "id": "YCQ9pgeg7yaR",
        "outputId": "d1650619-99c7-4d2f-a345-45b7d3b130b5",
        "colab": {
          "base_uri": "https://localhost:8080/",
          "height": 289
        }
      },
      "source": [
        "train.head()"
      ],
      "execution_count": 36,
      "outputs": [
        {
          "output_type": "execute_result",
          "data": {
            "text/html": [
              "<div>\n",
              "<style scoped>\n",
              "    .dataframe tbody tr th:only-of-type {\n",
              "        vertical-align: middle;\n",
              "    }\n",
              "\n",
              "    .dataframe tbody tr th {\n",
              "        vertical-align: top;\n",
              "    }\n",
              "\n",
              "    .dataframe thead th {\n",
              "        text-align: right;\n",
              "    }\n",
              "</style>\n",
              "<table border=\"1\" class=\"dataframe\">\n",
              "  <thead>\n",
              "    <tr style=\"text-align: right;\">\n",
              "      <th></th>\n",
              "      <th>id</th>\n",
              "      <th>Sentence</th>\n",
              "      <th>Label</th>\n",
              "      <th>POS</th>\n",
              "    </tr>\n",
              "  </thead>\n",
              "  <tbody>\n",
              "    <tr>\n",
              "      <th>0</th>\n",
              "      <td>TR-0</td>\n",
              "      <td>What is here called controlled natural languag...</td>\n",
              "      <td>O O O O long long long O short O O O O O O O O O</td>\n",
              "      <td>PRON AUX ADV VERB VERB ADJ NOUN PUNCT PROPN PU...</td>\n",
              "    </tr>\n",
              "    <tr>\n",
              "      <th>1</th>\n",
              "      <td>TR-1</td>\n",
              "      <td>In this paper , we introduce CoQA , a Conversa...</td>\n",
              "      <td>O O O O O O short O O long long long O O O O O...</td>\n",
              "      <td>ADP DET NOUN PUNCT PRON VERB PROPN PUNCT DET P...</td>\n",
              "    </tr>\n",
              "    <tr>\n",
              "      <th>2</th>\n",
              "      <td>TR-2</td>\n",
              "      <td>in : Proceedings of SODA 98 , Ninth Annual ACM...</td>\n",
              "      <td>O O O O short O O O O short O short O O O O O ...</td>\n",
              "      <td>ADP PUNCT NOUN ADP NOUN NUM PUNCT PROPN PROPN ...</td>\n",
              "    </tr>\n",
              "    <tr>\n",
              "      <th>3</th>\n",
              "      <td>TR-3</td>\n",
              "      <td>But is the existing HPC I / O stack still suit...</td>\n",
              "      <td>O O O O short short short short O O O O O shor...</td>\n",
              "      <td>CCONJ AUX DET VERB NOUN PRON SYM INTJ ADV ADV ...</td>\n",
              "    </tr>\n",
              "    <tr>\n",
              "      <th>4</th>\n",
              "      <td>TR-4</td>\n",
              "      <td>For a fixed and known , we apply a successive ...</td>\n",
              "      <td>O O O O O O O O O long long long O short O O O...</td>\n",
              "      <td>ADP DET VERB CCONJ VERB PUNCT PRON VERB DET AD...</td>\n",
              "    </tr>\n",
              "  </tbody>\n",
              "</table>\n",
              "</div>"
            ],
            "text/plain": [
              "     id  ...                                                POS\n",
              "0  TR-0  ...  PRON AUX ADV VERB VERB ADJ NOUN PUNCT PROPN PU...\n",
              "1  TR-1  ...  ADP DET NOUN PUNCT PRON VERB PROPN PUNCT DET P...\n",
              "2  TR-2  ...  ADP PUNCT NOUN ADP NOUN NUM PUNCT PROPN PROPN ...\n",
              "3  TR-3  ...  CCONJ AUX DET VERB NOUN PRON SYM INTJ ADV ADV ...\n",
              "4  TR-4  ...  ADP DET VERB CCONJ VERB PUNCT PRON VERB DET AD...\n",
              "\n",
              "[5 rows x 4 columns]"
            ]
          },
          "metadata": {
            "tags": []
          },
          "execution_count": 36
        }
      ]
    },
    {
      "cell_type": "code",
      "metadata": {
        "id": "VhZEamGQzV2v",
        "outputId": "19e1cc4a-7f7b-40a8-b928-027ed31482f7",
        "colab": {
          "base_uri": "https://localhost:8080/",
          "height": 225
        }
      },
      "source": [
        "test['Label'] = test['Sentence'].apply(lambda x: ' '.join(['O']*len(x.split())))\n",
        "test['Label']"
      ],
      "execution_count": 37,
      "outputs": [
        {
          "output_type": "execute_result",
          "data": {
            "text/plain": [
              "0       O O O O O O O O O O O O O O O O O O O O O O O ...\n",
              "1       O O O O O O O O O O O O O O O O O O O O O O O ...\n",
              "2                       O O O O O O O O O O O O O O O O O\n",
              "3       O O O O O O O O O O O O O O O O O O O O O O O ...\n",
              "4             O O O O O O O O O O O O O O O O O O O O O O\n",
              "                              ...                        \n",
              "1712    O O O O O O O O O O O O O O O O O O O O O O O ...\n",
              "1713                            O O O O O O O O O O O O O\n",
              "1714    O O O O O O O O O O O O O O O O O O O O O O O ...\n",
              "1715    O O O O O O O O O O O O O O O O O O O O O O O ...\n",
              "1716    O O O O O O O O O O O O O O O O O O O O O O O ...\n",
              "Name: Label, Length: 1717, dtype: object"
            ]
          },
          "metadata": {
            "tags": []
          },
          "execution_count": 37
        }
      ]
    },
    {
      "cell_type": "code",
      "metadata": {
        "id": "Cp4cyGTt_IVr"
      },
      "source": [
        "def data_prep(df):\n",
        "  data = []\n",
        "  for i in range(df.shape[0]):\n",
        "      # Take the word, POS tag, and its label\n",
        "      words= df['Sentence'][i].split()\n",
        "      pos =df['POS'][i].split()\n",
        "      label = df['Label'][i].split()\n",
        "      data.append([(w, pos, label) for (w, pos, label) in zip(words, pos, label)])\n",
        "  return data\n",
        "train_prep = data_prep(train)\n",
        "dev_prep = data_prep(dev)\n",
        "test_prep = data_prep(test)"
      ],
      "execution_count": 38,
      "outputs": []
    },
    {
      "cell_type": "code",
      "metadata": {
        "id": "M1NGAhfkA4b8",
        "outputId": "4e9df58a-832a-480f-f3d1-1825e7f72ccd",
        "colab": {
          "base_uri": "https://localhost:8080/",
          "height": 329
        }
      },
      "source": [
        "train_prep[0]"
      ],
      "execution_count": 39,
      "outputs": [
        {
          "output_type": "execute_result",
          "data": {
            "text/plain": [
              "[('What', 'PRON', 'O'),\n",
              " ('is', 'AUX', 'O'),\n",
              " ('here', 'ADV', 'O'),\n",
              " ('called', 'VERB', 'O'),\n",
              " ('controlled', 'VERB', 'long'),\n",
              " ('natural', 'ADJ', 'long'),\n",
              " ('language', 'NOUN', 'long'),\n",
              " ('(', 'PUNCT', 'O'),\n",
              " ('CNL', 'PROPN', 'short'),\n",
              " (')', 'PUNCT', 'O'),\n",
              " ('has', 'AUX', 'O'),\n",
              " ('traditionally', 'ADV', 'O'),\n",
              " ('been', 'AUX', 'O'),\n",
              " ('given', 'VERB', 'O'),\n",
              " ('many', 'ADJ', 'O'),\n",
              " ('different', 'ADJ', 'O'),\n",
              " ('names', 'NOUN', 'O'),\n",
              " ('.', 'PUNCT', 'O')]"
            ]
          },
          "metadata": {
            "tags": []
          },
          "execution_count": 39
        }
      ]
    },
    {
      "cell_type": "code",
      "metadata": {
        "id": "MhU9zShhBBAQ"
      },
      "source": [
        "def word2features(sent, i):\n",
        "    word = sent[i][0]\n",
        "    postag = sent[i][1]\n",
        "\n",
        "    features = {\n",
        "        'bias': 1.0,\n",
        "        'word.lower()': word.lower(),\n",
        "        'word[-3:]': word[-3:],\n",
        "        'word.isupper()': word.isupper(),\n",
        "        'word.istitle()': word.istitle(),\n",
        "        'word.isdigit()': word.isdigit(),\n",
        "        'postag': postag,\n",
        "        'postag[:2]': postag[:2],\n",
        "    }\n",
        "    if i > 0:\n",
        "        word1 = sent[i-1][0]\n",
        "        postag1 = sent[i-1][1]\n",
        "        features.update({\n",
        "            '-1:word.lower()': word1.lower(),\n",
        "            '-1:word.istitle()': word1.istitle(),\n",
        "            '-1:word.isupper()': word1.isupper(),\n",
        "            '-1:postag': postag1,\n",
        "            '-1:postag[:2]': postag1[:2],\n",
        "        })\n",
        "    else:\n",
        "        features['BOS'] = True\n",
        "\n",
        "    if i < len(sent)-1:\n",
        "        word1 = sent[i+1][0]\n",
        "        postag1 = sent[i+1][1]\n",
        "        features.update({\n",
        "            '+1:word.lower()': word1.lower(),\n",
        "            '+1:word.istitle()': word1.istitle(),\n",
        "            '+1:word.isupper()': word1.isupper(),\n",
        "            '+1:postag': postag1,\n",
        "            '+1:postag[:2]': postag1[:2],\n",
        "        })\n",
        "    else:\n",
        "        features['EOS'] = True\n",
        "\n",
        "    return features\n",
        "\n",
        "\n",
        "def sent2features(sent):\n",
        "    return [word2features(sent, i) for i in range(len(sent))]\n",
        "\n",
        "def sent2labels(sent):\n",
        "    return [label for token, postag, label in sent]\n",
        "\n",
        "def sent2tokens(sent):\n",
        "    return [token for token, postag, label in sent]\n",
        "\n",
        "X_train = [sent2features(s) for s in train_prep]\n",
        "y_train = [sent2labels(s) for s in train_prep]\n",
        "\n",
        "X_test = [sent2features(s) for s in dev_prep]\n",
        "y_test = [sent2labels(s) for s in dev_prep]"
      ],
      "execution_count": 40,
      "outputs": []
    },
    {
      "cell_type": "code",
      "metadata": {
        "id": "MPKT2RvmBPtU",
        "outputId": "fa77964d-43cf-4411-e93c-244562f464ff",
        "colab": {
          "base_uri": "https://localhost:8080/",
          "height": 329
        }
      },
      "source": [
        "X_train[0][1]"
      ],
      "execution_count": 41,
      "outputs": [
        {
          "output_type": "execute_result",
          "data": {
            "text/plain": [
              "{'+1:postag': 'ADV',\n",
              " '+1:postag[:2]': 'AD',\n",
              " '+1:word.istitle()': False,\n",
              " '+1:word.isupper()': False,\n",
              " '+1:word.lower()': 'here',\n",
              " '-1:postag': 'PRON',\n",
              " '-1:postag[:2]': 'PR',\n",
              " '-1:word.istitle()': True,\n",
              " '-1:word.isupper()': False,\n",
              " '-1:word.lower()': 'what',\n",
              " 'bias': 1.0,\n",
              " 'postag': 'AUX',\n",
              " 'postag[:2]': 'AU',\n",
              " 'word.isdigit()': False,\n",
              " 'word.istitle()': False,\n",
              " 'word.isupper()': False,\n",
              " 'word.lower()': 'is',\n",
              " 'word[-3:]': 'is'}"
            ]
          },
          "metadata": {
            "tags": []
          },
          "execution_count": 41
        }
      ]
    },
    {
      "cell_type": "code",
      "metadata": {
        "id": "tkwGT5_fBg34",
        "outputId": "1e86d955-ceb0-4749-80d2-1e3429e70891",
        "colab": {
          "base_uri": "https://localhost:8080/",
          "height": 52
        }
      },
      "source": [
        "%%time\n",
        "crf = sklearn_crfsuite.CRF(\n",
        "    algorithm='lbfgs',\n",
        "    c1=0.1,\n",
        "    c2=0.1,\n",
        "    max_iterations=100,\n",
        "    all_possible_transitions=True\n",
        ")\n",
        "crf.fit(X_train, y_train)"
      ],
      "execution_count": 42,
      "outputs": [
        {
          "output_type": "stream",
          "text": [
            "CPU times: user 27.2 s, sys: 32.8 ms, total: 27.2 s\n",
            "Wall time: 27.2 s\n"
          ],
          "name": "stdout"
        }
      ]
    },
    {
      "cell_type": "code",
      "metadata": {
        "id": "QJ_jTPluCCWY"
      },
      "source": [
        "# eli5.show_weights(crf, top=30)"
      ],
      "execution_count": null,
      "outputs": []
    },
    {
      "cell_type": "code",
      "metadata": {
        "id": "FwZMA5lEDTd-",
        "outputId": "fb3f6eaf-705d-49fb-9909-f34bdd6e5422",
        "colab": {
          "base_uri": "https://localhost:8080/",
          "height": 35
        }
      },
      "source": [
        "labels = list(crf.classes_)\n",
        "labels.remove('O')\n",
        "labels"
      ],
      "execution_count": 43,
      "outputs": [
        {
          "output_type": "execute_result",
          "data": {
            "text/plain": [
              "['long', 'short']"
            ]
          },
          "metadata": {
            "tags": []
          },
          "execution_count": 43
        }
      ]
    },
    {
      "cell_type": "code",
      "metadata": {
        "id": "LpZl9tzoDges",
        "outputId": "178a7d0f-211f-4bbb-b84e-996ff47be4f5",
        "colab": {
          "base_uri": "https://localhost:8080/",
          "height": 35
        }
      },
      "source": [
        "y_pred = crf.predict(X_test)\n",
        "metrics.flat_f1_score(y_test, y_pred, average='macro', labels=labels)"
      ],
      "execution_count": 47,
      "outputs": [
        {
          "output_type": "execute_result",
          "data": {
            "text/plain": [
              "0.8871135937513808"
            ]
          },
          "metadata": {
            "tags": []
          },
          "execution_count": 47
        }
      ]
    },
    {
      "cell_type": "code",
      "metadata": {
        "id": "or_UDZB_z4UX"
      },
      "source": [
        "X_test_final = [sent2features(s) for s in test_prep]\n",
        "y_test_final = [sent2labels(s) for s in test_prep]"
      ],
      "execution_count": 48,
      "outputs": []
    },
    {
      "cell_type": "code",
      "metadata": {
        "id": "yH6DLrWX0CGF"
      },
      "source": [
        "y_pred_final = crf.predict(X_test_final)"
      ],
      "execution_count": 49,
      "outputs": []
    },
    {
      "cell_type": "code",
      "metadata": {
        "id": "Ap5nkZ0C6Vzz",
        "outputId": "c2eb04bc-69b5-4d94-c1d0-b30553df0792",
        "colab": {
          "base_uri": "https://localhost:8080/",
          "height": 289
        }
      },
      "source": [
        "test['Label'] =  pd.DataFrame([' '.join(x) for x in y_pred_final])\n",
        "test.head()\n"
      ],
      "execution_count": 50,
      "outputs": [
        {
          "output_type": "execute_result",
          "data": {
            "text/html": [
              "<div>\n",
              "<style scoped>\n",
              "    .dataframe tbody tr th:only-of-type {\n",
              "        vertical-align: middle;\n",
              "    }\n",
              "\n",
              "    .dataframe tbody tr th {\n",
              "        vertical-align: top;\n",
              "    }\n",
              "\n",
              "    .dataframe thead th {\n",
              "        text-align: right;\n",
              "    }\n",
              "</style>\n",
              "<table border=\"1\" class=\"dataframe\">\n",
              "  <thead>\n",
              "    <tr style=\"text-align: right;\">\n",
              "      <th></th>\n",
              "      <th>id</th>\n",
              "      <th>Sentence</th>\n",
              "      <th>Label</th>\n",
              "      <th>POS</th>\n",
              "    </tr>\n",
              "  </thead>\n",
              "  <tbody>\n",
              "    <tr>\n",
              "      <th>0</th>\n",
              "      <td>DEV-0</td>\n",
              "      <td>The second case in which it helps to pose a no...</td>\n",
              "      <td>O O O O O O O O O O O O O O O short O O O O O ...</td>\n",
              "      <td>DET ADJ NOUN ADP DET PRON VERB PART VERB DET A...</td>\n",
              "    </tr>\n",
              "    <tr>\n",
              "      <th>1</th>\n",
              "      <td>DEV-1</td>\n",
              "      <td>We created such datasets for each kind of Ques...</td>\n",
              "      <td>O O O O O O O O O O O O O O O O O O O O O O O ...</td>\n",
              "      <td>PRON VERB ADJ NOUN ADP DET NOUN ADP NOUN PROPN...</td>\n",
              "    </tr>\n",
              "    <tr>\n",
              "      <th>2</th>\n",
              "      <td>DEV-2</td>\n",
              "      <td>Related Work Currently , several researchers s...</td>\n",
              "      <td>O O O O O O O O O O O O O O short O O</td>\n",
              "      <td>ADJ NOUN ADV PUNCT ADJ NOUN VERB NOUN ADP DET ...</td>\n",
              "    </tr>\n",
              "    <tr>\n",
              "      <th>3</th>\n",
              "      <td>DEV-3</td>\n",
              "      <td>However , we observed a decrease in the number...</td>\n",
              "      <td>O O O O O O O O O O O O O O O O O O O O O O O ...</td>\n",
              "      <td>ADV PUNCT PRON VERB DET NOUN ADP DET NOUN ADP ...</td>\n",
              "    </tr>\n",
              "    <tr>\n",
              "      <th>4</th>\n",
              "      <td>DEV-4</td>\n",
              "      <td>Here , DA = direct assessment , RR = relative ...</td>\n",
              "      <td>O O short O long long O short O long long O sh...</td>\n",
              "      <td>ADV PUNCT PROPN SYM ADJ NOUN PUNCT PROPN SYM A...</td>\n",
              "    </tr>\n",
              "  </tbody>\n",
              "</table>\n",
              "</div>"
            ],
            "text/plain": [
              "      id  ...                                                POS\n",
              "0  DEV-0  ...  DET ADJ NOUN ADP DET PRON VERB PART VERB DET A...\n",
              "1  DEV-1  ...  PRON VERB ADJ NOUN ADP DET NOUN ADP NOUN PROPN...\n",
              "2  DEV-2  ...  ADJ NOUN ADV PUNCT ADJ NOUN VERB NOUN ADP DET ...\n",
              "3  DEV-3  ...  ADV PUNCT PRON VERB DET NOUN ADP DET NOUN ADP ...\n",
              "4  DEV-4  ...  ADV PUNCT PROPN SYM ADJ NOUN PUNCT PROPN SYM A...\n",
              "\n",
              "[5 rows x 4 columns]"
            ]
          },
          "metadata": {
            "tags": []
          },
          "execution_count": 50
        }
      ]
    },
    {
      "cell_type": "code",
      "metadata": {
        "id": "5GYhNrY20Fls"
      },
      "source": [
        "test[['Sentence','Label']].to_csv('submit_task2_test.csv', index=False)"
      ],
      "execution_count": null,
      "outputs": []
    },
    {
      "cell_type": "code",
      "metadata": {
        "id": "q453WuAiDplp",
        "outputId": "3e4bad5e-0aa8-4c8a-9a8f-6b2cc7b49b11",
        "colab": {
          "base_uri": "https://localhost:8080/",
          "height": 173
        }
      },
      "source": [
        "# group B and I results\n",
        "sorted_labels = sorted(\n",
        "    labels,\n",
        "    key=lambda name: (name[1:], name[0])\n",
        ")\n",
        "print(metrics.flat_classification_report(\n",
        "    y_test, y_pred, labels=sorted_labels, digits=3\n",
        "))"
      ],
      "execution_count": 51,
      "outputs": [
        {
          "output_type": "stream",
          "text": [
            "              precision    recall  f1-score   support\n",
            "\n",
            "       short      0.951     0.880     0.914      3338\n",
            "        long      0.878     0.844     0.860      5082\n",
            "\n",
            "   micro avg      0.906     0.858     0.881      8420\n",
            "   macro avg      0.914     0.862     0.887      8420\n",
            "weighted avg      0.907     0.858     0.882      8420\n",
            "\n"
          ],
          "name": "stdout"
        }
      ]
    },
    {
      "cell_type": "markdown",
      "metadata": {
        "id": "8VFW-YIVB_E_"
      },
      "source": [
        "## Results\n",
        "\n",
        "Baseline to beat - 0.8546 \n",
        "\n",
        "Current using CRF - 0.809\n",
        "```\n",
        "precision    recall  f1-score   support\n",
        "\n",
        "      B-long      0.842     0.792     0.817      1613\n",
        "      I-long      0.885     0.856     0.870      3469\n",
        "     B-short      0.943     0.899     0.920      3147\n",
        "     I-short      0.748     0.545     0.630       191\n",
        "\n",
        "   micro avg      0.896     0.852     0.874      8420\n",
        "   macro avg      0.855     0.773     0.809      8420\n",
        "weighted avg      0.895     0.852     0.873      8420\n",
        "\n",
        "```\n",
        "Using CRF with modified labels - 0.887\n",
        "\n",
        "```\n",
        "              precision    recall  f1-score   support\n",
        "\n",
        "       short      0.951     0.880     0.914      3338\n",
        "        long      0.878     0.844     0.860      5082\n",
        "\n",
        "   micro avg      0.906     0.858     0.881      8420\n",
        "   macro avg      0.914     0.862     0.887      8420\n",
        "weighted avg      0.907     0.858     0.882      8420\n",
        "\n",
        "```"
      ]
    },
    {
      "cell_type": "markdown",
      "metadata": {
        "id": "TnUGV2aHD6O0"
      },
      "source": [
        "# For later - Hyperparameter tuning and model analysis"
      ]
    },
    {
      "cell_type": "code",
      "metadata": {
        "id": "xj77MbwcCgWu",
        "outputId": "0dd20fcd-083d-4101-db49-473acb7e103a",
        "colab": {
          "base_uri": "https://localhost:8080/",
          "height": 742
        }
      },
      "source": [
        "crf = sklearn_crfsuite.CRF(\n",
        "    algorithm='lbfgs',\n",
        "    c1=200,\n",
        "    c2=0.1,\n",
        "    max_iterations=20,\n",
        "    all_possible_transitions=False,\n",
        ")\n",
        "crf.fit(X_train, y_train)\n",
        "\n",
        "y_pred = crf.predict(X_test)\n",
        "# group B and I results\n",
        "sorted_labels = sorted(\n",
        "    labels,\n",
        "    key=lambda name: (name[1:], name[0])\n",
        ")\n",
        "print(metrics.flat_classification_report(\n",
        "    y_test, y_pred, labels=sorted_labels, digits=3\n",
        "))"
      ],
      "execution_count": null,
      "outputs": [
        {
          "output_type": "execute_result",
          "data": {
            "text/plain": [
              "CRF(algorithm='lbfgs', all_possible_states=None, all_possible_transitions=False,\n",
              "    averaging=None, c=None, c1=200, c2=0.1, calibration_candidates=None,\n",
              "    calibration_eta=None, calibration_max_trials=None, calibration_rate=None,\n",
              "    calibration_samples=None, delta=None, epsilon=None, error_sensitive=None,\n",
              "    gamma=None, keep_tempfiles=None, linesearch=None, max_iterations=20,\n",
              "    max_linesearch=None, min_freq=None, model_filename=None, num_memories=None,\n",
              "    pa_type=None, period=None, trainer_cls=None, variance=None, verbose=False)"
            ]
          },
          "metadata": {
            "tags": []
          },
          "execution_count": 42
        },
        {
          "output_type": "stream",
          "text": [
            "                          precision    recall  f1-score   support\n",
            "\n",
            "         B-Alias-Te-frag      0.000     0.000     0.000         0\n",
            "            B-Alias-Term      0.000     0.000     0.000        20\n",
            "            I-Alias-Term      0.000     0.000     0.000        25\n",
            "         B-Definiti-frag      0.000     0.000     0.000         1\n",
            "         I-Definiti-frag      0.000     0.000     0.000         2\n",
            "            B-Definition      0.000     0.000     0.000       288\n",
            "            I-Definition      0.536     0.549     0.542      4114\n",
            "             B-Qualifier      0.000     0.000     0.000         3\n",
            "             I-Qualifier      0.000     0.000     0.000        22\n",
            "B-Referential-Definition      0.000     0.000     0.000         2\n",
            "I-Referential-Definition      0.000     0.000     0.000         2\n",
            "      B-Referential-Term      0.000     0.000     0.000         3\n",
            "      I-Referential-Term      0.000     0.000     0.000         1\n",
            "  B-Secondary-Definition      0.000     0.000     0.000         2\n",
            "  I-Secondary-Definition      0.000     0.000     0.000        14\n",
            "               B-Te-frag      0.000     0.000     0.000         0\n",
            "               I-Te-frag      0.000     0.000     0.000         0\n",
            "                  B-Term      0.000     0.000     0.000       279\n",
            "                  I-Term      0.000     0.000     0.000       357\n",
            "    Secondary-Definition      0.000     0.000     0.000         0\n",
            "              Definition      0.000     0.000     0.000         3\n",
            "                    Term      0.000     0.000     0.000         0\n",
            "              Alias-Term      0.000     0.000     0.000         0\n",
            "               Qualifier      0.000     0.000     0.000         0\n",
            "\n",
            "               micro avg      0.536     0.439     0.483      5138\n",
            "               macro avg      0.022     0.023     0.023      5138\n",
            "            weighted avg      0.429     0.439     0.434      5138\n",
            "\n"
          ],
          "name": "stdout"
        },
        {
          "output_type": "stream",
          "text": [
            "/usr/local/lib/python3.6/dist-packages/sklearn/metrics/classification.py:1437: UndefinedMetricWarning: Precision and F-score are ill-defined and being set to 0.0 in labels with no predicted samples.\n",
            "  'precision', 'predicted', average, warn_for)\n",
            "/usr/local/lib/python3.6/dist-packages/sklearn/metrics/classification.py:1439: UndefinedMetricWarning: Recall and F-score are ill-defined and being set to 0.0 in labels with no true samples.\n",
            "  'recall', 'true', average, warn_for)\n"
          ],
          "name": "stderr"
        }
      ]
    },
    {
      "cell_type": "code",
      "metadata": {
        "id": "C3UIP6alCi2h",
        "outputId": "cd07ecd6-213f-4db1-b759-6d8933a65440",
        "colab": {
          "base_uri": "https://localhost:8080/",
          "height": 742
        }
      },
      "source": [
        "crf = sklearn_crfsuite.CRF(\n",
        "    algorithm='lbfgs',\n",
        "    c1=0.1,\n",
        "    c2=0.1,\n",
        "    max_iterations=20,\n",
        "    all_possible_transitions=True,\n",
        ")\n",
        "crf.fit(X_train, y_train);\n",
        "\n",
        "y_pred = crf.predict(X_test)\n",
        "# group B and I results\n",
        "sorted_labels = sorted(\n",
        "    labels,\n",
        "    key=lambda name: (name[1:], name[0])\n",
        ")\n",
        "print(metrics.flat_classification_report(\n",
        "    y_test, y_pred, labels=sorted_labels, digits=3\n",
        "))"
      ],
      "execution_count": null,
      "outputs": [
        {
          "output_type": "execute_result",
          "data": {
            "text/plain": [
              "CRF(algorithm='lbfgs', all_possible_states=None, all_possible_transitions=True,\n",
              "    averaging=None, c=None, c1=0.1, c2=0.1, calibration_candidates=None,\n",
              "    calibration_eta=None, calibration_max_trials=None, calibration_rate=None,\n",
              "    calibration_samples=None, delta=None, epsilon=None, error_sensitive=None,\n",
              "    gamma=None, keep_tempfiles=None, linesearch=None, max_iterations=20,\n",
              "    max_linesearch=None, min_freq=None, model_filename=None, num_memories=None,\n",
              "    pa_type=None, period=None, trainer_cls=None, variance=None, verbose=False)"
            ]
          },
          "metadata": {
            "tags": []
          },
          "execution_count": 43
        },
        {
          "output_type": "stream",
          "text": [
            "                          precision    recall  f1-score   support\n",
            "\n",
            "         B-Alias-Te-frag      0.000     0.000     0.000         0\n",
            "            B-Alias-Term      0.000     0.000     0.000        20\n",
            "            I-Alias-Term      0.000     0.000     0.000        25\n",
            "         B-Definiti-frag      0.000     0.000     0.000         1\n",
            "         I-Definiti-frag      0.000     0.000     0.000         2\n",
            "            B-Definition      0.000     0.000     0.000       288\n",
            "            I-Definition      0.527     0.579     0.552      4114\n",
            "             B-Qualifier      0.000     0.000     0.000         3\n",
            "             I-Qualifier      0.000     0.000     0.000        22\n",
            "B-Referential-Definition      0.000     0.000     0.000         2\n",
            "I-Referential-Definition      0.000     0.000     0.000         2\n",
            "      B-Referential-Term      0.000     0.000     0.000         3\n",
            "      I-Referential-Term      0.000     0.000     0.000         1\n",
            "  B-Secondary-Definition      0.000     0.000     0.000         2\n",
            "  I-Secondary-Definition      0.000     0.000     0.000        14\n",
            "               B-Te-frag      0.000     0.000     0.000         0\n",
            "               I-Te-frag      0.000     0.000     0.000         0\n",
            "                  B-Term      0.000     0.000     0.000       279\n",
            "                  I-Term      0.000     0.000     0.000       357\n",
            "    Secondary-Definition      0.000     0.000     0.000         0\n",
            "              Definition      0.000     0.000     0.000         3\n",
            "                    Term      0.000     0.000     0.000         0\n",
            "              Alias-Term      0.000     0.000     0.000         0\n",
            "               Qualifier      0.000     0.000     0.000         0\n",
            "\n",
            "               micro avg      0.527     0.464     0.494      5138\n",
            "               macro avg      0.022     0.024     0.023      5138\n",
            "            weighted avg      0.422     0.464     0.442      5138\n",
            "\n"
          ],
          "name": "stdout"
        },
        {
          "output_type": "stream",
          "text": [
            "/usr/local/lib/python3.6/dist-packages/sklearn/metrics/classification.py:1437: UndefinedMetricWarning: Precision and F-score are ill-defined and being set to 0.0 in labels with no predicted samples.\n",
            "  'precision', 'predicted', average, warn_for)\n",
            "/usr/local/lib/python3.6/dist-packages/sklearn/metrics/classification.py:1439: UndefinedMetricWarning: Recall and F-score are ill-defined and being set to 0.0 in labels with no true samples.\n",
            "  'recall', 'true', average, warn_for)\n"
          ],
          "name": "stderr"
        }
      ]
    },
    {
      "cell_type": "code",
      "metadata": {
        "id": "maVmJ6mgCnPo"
      },
      "source": [
        "eli5.show_weights(crf, top=10, targets=['O', 'B-ORG', 'I-ORG'])"
      ],
      "execution_count": null,
      "outputs": []
    },
    {
      "cell_type": "code",
      "metadata": {
        "id": "FG_9AzKOCqWi"
      },
      "source": [
        "expl = eli5.explain_weights(crf, top=5, targets=['O', 'B-LOC', 'I-LOC'])\n",
        "print(eli5.format_as_text(expl))"
      ],
      "execution_count": null,
      "outputs": []
    },
    {
      "cell_type": "code",
      "metadata": {
        "id": "vz2F4DM8Et4k",
        "outputId": "91ac6190-9f57-45ce-8c3d-66935e8a3b05",
        "colab": {
          "base_uri": "https://localhost:8080/",
          "height": 118
        }
      },
      "source": [
        "%%time\n",
        "# define fixed parameters and parameters to search\n",
        "crf = sklearn_crfsuite.CRF(\n",
        "    algorithm='lbfgs',\n",
        "    max_iterations=100,\n",
        "    all_possible_transitions=True\n",
        ")\n",
        "params_space = {\n",
        "    'c1': scipy.stats.expon(scale=0.5),\n",
        "    'c2': scipy.stats.expon(scale=0.05),\n",
        "}\n",
        "\n",
        "# use the same metric for evaluation\n",
        "f1_scorer = make_scorer(metrics.flat_f1_score, average='weighted', labels=labels)\n",
        "\n",
        "# search\n",
        "rs = RandomizedSearchCV(crf, params_space,\n",
        "                        cv=3,\n",
        "                        verbose=1,\n",
        "                        n_jobs=5,\n",
        "                        n_iter=50,\n",
        "                        scoring=f1_scorer)\n",
        "rs.fit(X_train, y_train)"
      ],
      "execution_count": null,
      "outputs": [
        {
          "output_type": "stream",
          "text": [
            "Fitting 3 folds for each of 50 candidates, totalling 150 fits\n"
          ],
          "name": "stdout"
        },
        {
          "output_type": "stream",
          "text": [
            "[Parallel(n_jobs=5)]: Using backend LokyBackend with 5 concurrent workers.\n",
            "[Parallel(n_jobs=5)]: Done  40 tasks      | elapsed: 42.1min\n",
            "[Parallel(n_jobs=5)]: Done 150 out of 150 | elapsed: 149.0min finished\n"
          ],
          "name": "stderr"
        },
        {
          "output_type": "stream",
          "text": [
            "CPU times: user 58min 56s, sys: 34.5 s, total: 59min 30s\n",
            "Wall time: 2h 30min 30s\n"
          ],
          "name": "stdout"
        }
      ]
    },
    {
      "cell_type": "code",
      "metadata": {
        "id": "QeIYwSLKE_Hh",
        "outputId": "c8d0685c-54d9-439b-ed81-aec29d656562",
        "colab": {
          "base_uri": "https://localhost:8080/",
          "height": 67
        }
      },
      "source": [
        "# crf = rs.best_estimator_\n",
        "print('best params:', rs.best_params_)\n",
        "print('best CV score:', rs.best_score_)\n",
        "print('model size: {:0.2f}M'.format(rs.best_estimator_.size_ / 1000000))"
      ],
      "execution_count": null,
      "outputs": [
        {
          "output_type": "stream",
          "text": [
            "best params: {'c1': 1.6483342862953896, 'c2': 0.12940114154937338}\n",
            "best CV score: 0.7180427900104681\n",
            "model size: 0.61M\n"
          ],
          "name": "stdout"
        }
      ]
    },
    {
      "cell_type": "code",
      "metadata": {
        "id": "xBOIXeKSFDnA",
        "outputId": "b3263974-a74c-4b35-e85b-7dc897486ac7",
        "colab": {
          "base_uri": "https://localhost:8080/",
          "height": 625
        }
      },
      "source": [
        "crf = rs.best_estimator_\n",
        "y_pred = crf.predict(X_test)\n",
        "print(metrics.flat_classification_report(\n",
        "    y_test, y_pred, labels=sorted_labels, digits=3\n",
        "))"
      ],
      "execution_count": null,
      "outputs": [
        {
          "output_type": "stream",
          "text": [
            "                          precision    recall  f1-score   support\n",
            "\n",
            "         B-Alias-Te-frag      0.000     0.000     0.000         0\n",
            "            B-Alias-Term      0.700     0.350     0.467        20\n",
            "            I-Alias-Term      1.000     0.040     0.077        25\n",
            "         B-Definiti-frag      0.000     0.000     0.000         1\n",
            "         I-Definiti-frag      0.000     0.000     0.000         2\n",
            "            B-Definition      0.619     0.552     0.583       288\n",
            "            I-Definition      0.748     0.891     0.813      4114\n",
            "             B-Qualifier      0.000     0.000     0.000         3\n",
            "             I-Qualifier      0.000     0.000     0.000        22\n",
            "B-Referential-Definition      0.000     0.000     0.000         2\n",
            "I-Referential-Definition      0.000     0.000     0.000         2\n",
            "      B-Referential-Term      0.000     0.000     0.000         3\n",
            "      I-Referential-Term      0.000     0.000     0.000         1\n",
            "  B-Secondary-Definition      0.000     0.000     0.000         2\n",
            "  I-Secondary-Definition      0.000     0.000     0.000        14\n",
            "               B-Te-frag      0.000     0.000     0.000         0\n",
            "               I-Te-frag      0.000     0.000     0.000         0\n",
            "                  B-Term      0.777     0.599     0.676       279\n",
            "                  I-Term      0.753     0.616     0.678       357\n",
            "    Secondary-Definition      0.000     0.000     0.000         0\n",
            "              Definition      0.000     0.000     0.000         3\n",
            "                    Term      0.000     0.000     0.000         0\n",
            "              Alias-Term      0.000     0.000     0.000         0\n",
            "               Qualifier      0.000     0.000     0.000         0\n",
            "\n",
            "               micro avg      0.740     0.821     0.779      5138\n",
            "               macro avg      0.192     0.127     0.137      5138\n",
            "            weighted avg      0.736     0.821     0.770      5138\n",
            "\n"
          ],
          "name": "stdout"
        },
        {
          "output_type": "stream",
          "text": [
            "/usr/local/lib/python3.6/dist-packages/sklearn/metrics/classification.py:1437: UndefinedMetricWarning: Precision and F-score are ill-defined and being set to 0.0 in labels with no predicted samples.\n",
            "  'precision', 'predicted', average, warn_for)\n",
            "/usr/local/lib/python3.6/dist-packages/sklearn/metrics/classification.py:1439: UndefinedMetricWarning: Recall and F-score are ill-defined and being set to 0.0 in labels with no true samples.\n",
            "  'recall', 'true', average, warn_for)\n"
          ],
          "name": "stderr"
        }
      ]
    },
    {
      "cell_type": "code",
      "metadata": {
        "id": "XXPeUr3cFIux"
      },
      "source": [
        "from collections import Counter\n",
        "\n",
        "def print_transitions(trans_features):\n",
        "    for (label_from, label_to), weight in trans_features:\n",
        "        print(\"%-6s -> %-7s %0.6f\" % (label_from, label_to, weight))\n",
        "\n",
        "print(\"Top likely transitions:\")\n",
        "print_transitions(Counter(crf.transition_features_).most_common(20))\n",
        "\n",
        "print(\"\\nTop unlikely transitions:\")\n",
        "print_transitions(Counter(crf.transition_features_).most_common()[-20:])"
      ],
      "execution_count": null,
      "outputs": []
    },
    {
      "cell_type": "code",
      "metadata": {
        "id": "FhxWM1LvFLug"
      },
      "source": [
        "def print_state_features(state_features):\n",
        "    for (attr, label), weight in state_features:\n",
        "        print(\"%0.6f %-8s %s\" % (weight, label, attr))\n",
        "\n",
        "print(\"Top positive:\")\n",
        "print_state_features(Counter(crf.state_features_).most_common(30))\n",
        "\n",
        "print(\"\\nTop negative:\")\n",
        "print_state_features(Counter(crf.state_features_).most_common()[-30:])"
      ],
      "execution_count": null,
      "outputs": []
    },
    {
      "cell_type": "code",
      "metadata": {
        "id": "5pOk_gtOFk-m"
      },
      "source": [
        ""
      ],
      "execution_count": null,
      "outputs": []
    }
  ]
}